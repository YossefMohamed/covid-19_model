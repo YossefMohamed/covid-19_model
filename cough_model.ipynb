{
  "cells": [
    {
      "cell_type": "code",
      "execution_count": 1,
      "metadata": {
        "id": "TLVeX4JFVq9F"
      },
      "outputs": [],
      "source": [
        "import tensorflow as tf\n",
        "from tensorflow import keras\n",
        "from tensorflow.keras import layers\n",
        "from keras import Sequential,Model\n",
        "from keras.layers import concatenate,Activation, Dense, Dropout, Conv2D, Flatten, MaxPooling2D, GlobalMaxPooling2D, GlobalAveragePooling1D, AveragePooling2D, Input, Add, BatchNormalization\n",
        "from keras.preprocessing.image import ImageDataGenerator\n",
        "from keras.models import model_from_json\n",
        "from sklearn.metrics import roc_curve\n",
        "from keras.utils import np_utils\n",
        "from tqdm import tqdm\n",
        "import pandas as pd\n",
        "import numpy as np\n",
        "import librosa \n",
        "import librosa.display\n",
        "import pylab\n",
        "import cv2\n",
        "import os"
      ]
    },
    {
      "cell_type": "markdown",
      "metadata": {
        "id": "SYfja4naeas9"
      },
      "source": [
        "---\n",
        "# 1-Prepare Data\n",
        "---\n",
        "\n"
      ]
    },
    {
      "cell_type": "markdown",
      "metadata": {
        "id": "-kR2CxYJcCzz"
      },
      "source": [
        "## Download Data"
      ]
    },
    {
      "cell_type": "code",
      "execution_count": null,
      "metadata": {
        "colab": {
          "background_save": true,
          "base_uri": "https://localhost:8080/"
        },
        "id": "PteAAgv6btxi",
        "outputId": "7a9074a1-fa40-4e68-bc31-3168f7cf2d49"
      },
      "outputs": [
        {
          "name": "stdout",
          "output_type": "stream",
          "text": [
            "Cloning into 'Coswara-Data'...\n",
            "remote: Enumerating objects: 775, done.\u001b[K\n",
            "remote: Counting objects: 100% (13/13), done.\u001b[K\n",
            "remote: Compressing objects: 100% (12/12), done.\u001b[K\n",
            "remote: Total 775 (delta 1), reused 10 (delta 1), pack-reused 762\u001b[K\n",
            "Receiving objects: 100% (775/775), 14.63 GiB | 43.88 MiB/s, done.\n",
            "Resolving deltas: 100% (303/303), done.\n",
            "Checking out files: 100% (186/186), done.\n"
          ]
        }
      ],
      "source": [
        "!git clone https://github.com/iiscleap/Coswara-Data.git"
      ]
    },
    {
      "cell_type": "code",
      "execution_count": null,
      "metadata": {
        "colab": {
          "background_save": true,
          "base_uri": "https://localhost:8080/"
        },
        "id": "DQjUs7MScCyX",
        "outputId": "7595d336-cd92-48e6-c39b-f72fef5e9098"
      },
      "outputs": [
        {
          "name": "stdout",
          "output_type": "stream",
          "text": [
            "20200418\n",
            "20200504\n",
            "20210630\n",
            "20200720\n",
            "20210206\n",
            "20210603\n",
            "20201012\n",
            "20210714\n",
            "20200919\n",
            "20200824\n",
            "20201130\n",
            "20210816\n",
            "20200820\n",
            "20200430\n",
            "20200424\n",
            "20201031\n",
            "20200416\n",
            "20210830\n",
            "20210523\n",
            "20210618\n",
            "20200707\n",
            "20200413\n",
            "20200604\n",
            "20210406\n",
            "20200419\n",
            "20200415\n",
            "20200901\n",
            "20200505\n",
            "20210426\n",
            "20200502\n",
            "20210419\n",
            "20220116\n",
            "20200525\n",
            "20210930\n",
            "20200911\n",
            "20200814\n",
            "20200803\n",
            "20210914\n",
            "20201221\n",
            "20200417\n",
            "20200930\n",
            "20210507\n"
          ]
        }
      ],
      "source": [
        "rt_dir = '/content/Coswara-Data'\n",
        "import glob\n",
        "for each in os.listdir(rt_dir):\n",
        "    if os.path.isdir(os.path.join(rt_dir,each)) and each != '.git':\n",
        "        print(each)\n",
        "        !cat {os.path.join(rt_dir, each,'')}*.tar.gz.* > {os.path.join(rt_dir, each,'')}combined_file.tar.gz\n",
        "        !tar -xzf {os.path.join(rt_dir, each,'')}combined_file.tar.gz -C {rt_dir}\n",
        "subset = glob.glob('/content/Coswara-Data/*/*.tar.gz.*') + glob.glob('/content/Coswara-Data/*/combined_data.tar.gz')\n",
        "[os.remove(x) for x in subset];"
      ]
    },
    {
      "cell_type": "code",
      "execution_count": 2,
      "metadata": {
        "colab": {
          "base_uri": "https://localhost:8080/"
        },
        "id": "ItIYcUjHgi9z",
        "outputId": "e8d3d962-4247-40cf-84e0-8aa44518829a"
      },
      "outputs": [
        {
          "output_type": "stream",
          "name": "stdout",
          "text": [
            "--2022-02-14 20:15:18--  https://zenodo.org/record/4048312/files/public_dataset.zip?download=1\n",
            "Resolving zenodo.org (zenodo.org)... 137.138.76.77\n",
            "Connecting to zenodo.org (zenodo.org)|137.138.76.77|:443... connected.\n",
            "HTTP request sent, awaiting response... 200 OK\n",
            "Length: 951442487 (907M) [application/octet-stream]\n",
            "Saving to: ‘public_dataset.zip?download=1’\n",
            "\n",
            "public_dataset.zip? 100%[===================>] 907.37M  1.60MB/s    in 4m 59s  \n",
            "\n",
            "2022-02-14 20:20:19 (3.04 MB/s) - ‘public_dataset.zip?download=1’ saved [951442487/951442487]\n",
            "\n"
          ]
        }
      ],
      "source": [
        "!wget https://zenodo.org/record/4048312/files/public_dataset.zip?download=1\n",
        "!mv public_dataset.zip?download=1 public_dataset.zip\n",
        "!unzip -q public_dataset.zip\n",
        "!mkdir 'custom_dataset'"
      ]
    },
    {
      "cell_type": "code",
      "execution_count": null,
      "metadata": {
        "colab": {
          "base_uri": "https://localhost:8080/",
          "height": 223
        },
        "id": "wsLmzEc9l65j",
        "outputId": "579ffe42-f724-43c0-d10c-92c513b45880"
      },
      "outputs": [
        {
          "name": "stderr",
          "output_type": "stream",
          "text": [
            "100%|██████████| 2373/2373 [00:37<00:00, 63.12it/s]\n"
          ]
        },
        {
          "data": {
            "text/html": [
              "\n",
              "  <div id=\"df-93abb2d9-325c-46d0-94dd-ff363f44ae97\">\n",
              "    <div class=\"colab-df-container\">\n",
              "      <div>\n",
              "<style scoped>\n",
              "    .dataframe tbody tr th:only-of-type {\n",
              "        vertical-align: middle;\n",
              "    }\n",
              "\n",
              "    .dataframe tbody tr th {\n",
              "        vertical-align: top;\n",
              "    }\n",
              "\n",
              "    .dataframe thead th {\n",
              "        text-align: right;\n",
              "    }\n",
              "</style>\n",
              "<table border=\"1\" class=\"dataframe\">\n",
              "  <thead>\n",
              "    <tr style=\"text-align: right;\">\n",
              "      <th></th>\n",
              "      <th>ID</th>\n",
              "      <th>STATUS</th>\n",
              "      <th>DIR</th>\n",
              "      <th>Fever/MP</th>\n",
              "      <th>ORC</th>\n",
              "      <th>DataSet</th>\n",
              "    </tr>\n",
              "  </thead>\n",
              "  <tbody>\n",
              "    <tr>\n",
              "      <th>0</th>\n",
              "      <td>xyM7qnHrkeSfQsGyRCsomcKfMDG3</td>\n",
              "      <td>healthy</td>\n",
              "      <td>/content/Coswara-Data/20200419/xyM7qnHrkeSfQsG...</td>\n",
              "      <td>0</td>\n",
              "      <td>0</td>\n",
              "      <td>coswara</td>\n",
              "    </tr>\n",
              "    <tr>\n",
              "      <th>0</th>\n",
              "      <td>RgfYXoDTg6MBu6V0xKMEjsMfY8m2</td>\n",
              "      <td>no_resp_illness_exposed</td>\n",
              "      <td>/content/Coswara-Data/20200419/RgfYXoDTg6MBu6V...</td>\n",
              "      <td>0</td>\n",
              "      <td>0</td>\n",
              "      <td>coswara</td>\n",
              "    </tr>\n",
              "    <tr>\n",
              "      <th>0</th>\n",
              "      <td>OnSOmvzzE2WLcwfrSyNbh0B89n72</td>\n",
              "      <td>resp_illness_not_identified</td>\n",
              "      <td>/content/Coswara-Data/20200419/OnSOmvzzE2WLcwf...</td>\n",
              "      <td>0</td>\n",
              "      <td>0</td>\n",
              "      <td>coswara</td>\n",
              "    </tr>\n",
              "    <tr>\n",
              "      <th>0</th>\n",
              "      <td>MEEGIoNSX4exg4oIL3Q9MdysPJq1</td>\n",
              "      <td>healthy</td>\n",
              "      <td>/content/Coswara-Data/20200419/MEEGIoNSX4exg4o...</td>\n",
              "      <td>0</td>\n",
              "      <td>0</td>\n",
              "      <td>coswara</td>\n",
              "    </tr>\n",
              "    <tr>\n",
              "      <th>0</th>\n",
              "      <td>Uy5OhcHEQXY65CsYbiRPtN7RVBf1</td>\n",
              "      <td>healthy</td>\n",
              "      <td>/content/Coswara-Data/20200419/Uy5OhcHEQXY65Cs...</td>\n",
              "      <td>0</td>\n",
              "      <td>0</td>\n",
              "      <td>coswara</td>\n",
              "    </tr>\n",
              "  </tbody>\n",
              "</table>\n",
              "</div>\n",
              "      <button class=\"colab-df-convert\" onclick=\"convertToInteractive('df-93abb2d9-325c-46d0-94dd-ff363f44ae97')\"\n",
              "              title=\"Convert this dataframe to an interactive table.\"\n",
              "              style=\"display:none;\">\n",
              "        \n",
              "  <svg xmlns=\"http://www.w3.org/2000/svg\" height=\"24px\"viewBox=\"0 0 24 24\"\n",
              "       width=\"24px\">\n",
              "    <path d=\"M0 0h24v24H0V0z\" fill=\"none\"/>\n",
              "    <path d=\"M18.56 5.44l.94 2.06.94-2.06 2.06-.94-2.06-.94-.94-2.06-.94 2.06-2.06.94zm-11 1L8.5 8.5l.94-2.06 2.06-.94-2.06-.94L8.5 2.5l-.94 2.06-2.06.94zm10 10l.94 2.06.94-2.06 2.06-.94-2.06-.94-.94-2.06-.94 2.06-2.06.94z\"/><path d=\"M17.41 7.96l-1.37-1.37c-.4-.4-.92-.59-1.43-.59-.52 0-1.04.2-1.43.59L10.3 9.45l-7.72 7.72c-.78.78-.78 2.05 0 2.83L4 21.41c.39.39.9.59 1.41.59.51 0 1.02-.2 1.41-.59l7.78-7.78 2.81-2.81c.8-.78.8-2.07 0-2.86zM5.41 20L4 18.59l7.72-7.72 1.47 1.35L5.41 20z\"/>\n",
              "  </svg>\n",
              "      </button>\n",
              "      \n",
              "  <style>\n",
              "    .colab-df-container {\n",
              "      display:flex;\n",
              "      flex-wrap:wrap;\n",
              "      gap: 12px;\n",
              "    }\n",
              "\n",
              "    .colab-df-convert {\n",
              "      background-color: #E8F0FE;\n",
              "      border: none;\n",
              "      border-radius: 50%;\n",
              "      cursor: pointer;\n",
              "      display: none;\n",
              "      fill: #1967D2;\n",
              "      height: 32px;\n",
              "      padding: 0 0 0 0;\n",
              "      width: 32px;\n",
              "    }\n",
              "\n",
              "    .colab-df-convert:hover {\n",
              "      background-color: #E2EBFA;\n",
              "      box-shadow: 0px 1px 2px rgba(60, 64, 67, 0.3), 0px 1px 3px 1px rgba(60, 64, 67, 0.15);\n",
              "      fill: #174EA6;\n",
              "    }\n",
              "\n",
              "    [theme=dark] .colab-df-convert {\n",
              "      background-color: #3B4455;\n",
              "      fill: #D2E3FC;\n",
              "    }\n",
              "\n",
              "    [theme=dark] .colab-df-convert:hover {\n",
              "      background-color: #434B5C;\n",
              "      box-shadow: 0px 1px 3px 1px rgba(0, 0, 0, 0.15);\n",
              "      filter: drop-shadow(0px 1px 2px rgba(0, 0, 0, 0.3));\n",
              "      fill: #FFFFFF;\n",
              "    }\n",
              "  </style>\n",
              "\n",
              "      <script>\n",
              "        const buttonEl =\n",
              "          document.querySelector('#df-93abb2d9-325c-46d0-94dd-ff363f44ae97 button.colab-df-convert');\n",
              "        buttonEl.style.display =\n",
              "          google.colab.kernel.accessAllowed ? 'block' : 'none';\n",
              "\n",
              "        async function convertToInteractive(key) {\n",
              "          const element = document.querySelector('#df-93abb2d9-325c-46d0-94dd-ff363f44ae97');\n",
              "          const dataTable =\n",
              "            await google.colab.kernel.invokeFunction('convertToInteractive',\n",
              "                                                     [key], {});\n",
              "          if (!dataTable) return;\n",
              "\n",
              "          const docLinkHtml = 'Like what you see? Visit the ' +\n",
              "            '<a target=\"_blank\" href=https://colab.research.google.com/notebooks/data_table.ipynb>data table notebook</a>'\n",
              "            + ' to learn more about interactive tables.';\n",
              "          element.innerHTML = '';\n",
              "          dataTable['output_type'] = 'display_data';\n",
              "          await google.colab.output.renderOutput(dataTable, element);\n",
              "          const docLink = document.createElement('div');\n",
              "          docLink.innerHTML = docLinkHtml;\n",
              "          element.appendChild(docLink);\n",
              "        }\n",
              "      </script>\n",
              "    </div>\n",
              "  </div>\n",
              "  "
            ],
            "text/plain": [
              "                             ID                       STATUS  ... ORC  DataSet\n",
              "0  xyM7qnHrkeSfQsGyRCsomcKfMDG3                      healthy  ...   0  coswara\n",
              "0  RgfYXoDTg6MBu6V0xKMEjsMfY8m2      no_resp_illness_exposed  ...   0  coswara\n",
              "0  OnSOmvzzE2WLcwfrSyNbh0B89n72  resp_illness_not_identified  ...   0  coswara\n",
              "0  MEEGIoNSX4exg4oIL3Q9MdysPJq1                      healthy  ...   0  coswara\n",
              "0  Uy5OhcHEQXY65CsYbiRPtN7RVBf1                      healthy  ...   0  coswara\n",
              "\n",
              "[5 rows x 6 columns]"
            ]
          },
          "execution_count": 5,
          "metadata": {},
          "output_type": "execute_result"
        }
      ],
      "source": [
        "names   = ['ID','Fever/MP','ORC','STATUS','DIR','DataSet']\n",
        "join_by = pd.read_csv('/content/Coswara-Data/combined_data.csv')\n",
        "\n",
        "import glob\n",
        "df_list = []\n",
        "for path in tqdm(glob.glob('/content/Coswara-Data/*/*/cough-shallow.wav')):\n",
        "  temp = pd.DataFrame(columns=['id','DIR'])\n",
        "  temp['id'] = [path.split('/')[-2]]\n",
        "  temp['DIR'] = [path]\n",
        "  temp = pd.merge(left=temp,right=join_by,on='id',how='inner')\n",
        "\n",
        "  temp['fomp']= (temp['fever']| temp['mp']).apply(int)\n",
        "  temp['oths']= (temp['cld']|temp['asthma']|temp['cold']|temp['st']|temp['pneumonia']).apply(int)\n",
        "  temp        = temp[['id','covid_status','DIR','fomp','oths']]\n",
        "  df_list.append(temp.rename(columns={'id':'ID','covid_status':'STATUS','DIR':'DIR','fomp':'Fever/MP','oths':'ORC'}))\n",
        "CosData1=pd.concat(df_list)\n",
        "CosData1['DataSet'] = 'coswara'\n",
        "CosData1.head()"
      ]
    },
    {
      "cell_type": "code",
      "execution_count": null,
      "metadata": {
        "colab": {
          "base_uri": "https://localhost:8080/"
        },
        "id": "YxS5OhQplLJw",
        "outputId": "07bb9324-8b50-447b-8766-0db5d3d74603"
      },
      "outputs": [
        {
          "name": "stdout",
          "output_type": "stream",
          "text": [
            "522\n",
            "1851\n",
            "550\n"
          ]
        }
      ],
      "source": [
        "positive_mild = CosData1.loc[CosData1['STATUS']=='positive_mild']\n",
        "positive_moderate\t = CosData1.loc[CosData1['STATUS']=='positive_moderate']\n",
        "positive_asymp = CosData1.loc[CosData1['STATUS']=='positive_asymp']\n",
        "\n",
        "positive = pd.concat([positive_mild,positive_moderate,positive_asymp])\n",
        "\n",
        "healthy = CosData1.loc[CosData1['STATUS']=='healthy']\n",
        "resp_illness_not_identified = CosData1.loc[CosData1['STATUS']=='resp_illness_not_identified']\n",
        "no_resp_illness_exposed = CosData1.loc[CosData1['STATUS']=='no_resp_illness_exposed']\n",
        "recovered_full = CosData1.loc[CosData1['STATUS']=='recovered_full']\n",
        "\n",
        "negative =  pd.concat([healthy,resp_illness_not_identified,no_resp_illness_exposed,recovered_full])\n",
        "\n",
        "print(len(positive))\n",
        "print(len(negative))\n",
        "\n",
        "f_negative = negative.loc[negative['STATUS']!='COVID-19'][0:550]\n",
        "print(len(f_negative))\n",
        "\n"
      ]
    },
    {
      "cell_type": "code",
      "execution_count": null,
      "metadata": {
        "colab": {
          "base_uri": "https://localhost:8080/",
          "height": 206
        },
        "id": "N1YItGAEtKA_",
        "outputId": "bd5778e3-816c-410f-8fd6-e2017cc0f262"
      },
      "outputs": [
        {
          "data": {
            "text/html": [
              "\n",
              "  <div id=\"df-64a25b6c-89ae-4792-b4fd-1776eb3a753a\">\n",
              "    <div class=\"colab-df-container\">\n",
              "      <div>\n",
              "<style scoped>\n",
              "    .dataframe tbody tr th:only-of-type {\n",
              "        vertical-align: middle;\n",
              "    }\n",
              "\n",
              "    .dataframe tbody tr th {\n",
              "        vertical-align: top;\n",
              "    }\n",
              "\n",
              "    .dataframe thead th {\n",
              "        text-align: right;\n",
              "    }\n",
              "</style>\n",
              "<table border=\"1\" class=\"dataframe\">\n",
              "  <thead>\n",
              "    <tr style=\"text-align: right;\">\n",
              "      <th></th>\n",
              "      <th>ID</th>\n",
              "      <th>STATUS</th>\n",
              "      <th>DIR</th>\n",
              "      <th>Fever/MP</th>\n",
              "      <th>ORC</th>\n",
              "      <th>DataSet</th>\n",
              "    </tr>\n",
              "  </thead>\n",
              "  <tbody>\n",
              "    <tr>\n",
              "      <th>0</th>\n",
              "      <td>OC99RqHzOjNvaA0rJhPUgP4PM2o1</td>\n",
              "      <td>healthy</td>\n",
              "      <td>/content/Coswara-Data/20210830/OC99RqHzOjNvaA0...</td>\n",
              "      <td>0</td>\n",
              "      <td>0</td>\n",
              "      <td>coswara</td>\n",
              "    </tr>\n",
              "    <tr>\n",
              "      <th>0</th>\n",
              "      <td>Fh3hBZZRh2UXXicTNGMei8ikbSu2</td>\n",
              "      <td>positive_asymp</td>\n",
              "      <td>/content/Coswara-Data/20210406/Fh3hBZZRh2UXXic...</td>\n",
              "      <td>0</td>\n",
              "      <td>0</td>\n",
              "      <td>coswara</td>\n",
              "    </tr>\n",
              "    <tr>\n",
              "      <th>0</th>\n",
              "      <td>ZIsSazVaDRZmnV0GzL164wnjQGV2</td>\n",
              "      <td>healthy</td>\n",
              "      <td>/content/Coswara-Data/20200417/ZIsSazVaDRZmnV0...</td>\n",
              "      <td>0</td>\n",
              "      <td>0</td>\n",
              "      <td>coswara</td>\n",
              "    </tr>\n",
              "    <tr>\n",
              "      <th>0</th>\n",
              "      <td>R4AY1hLOZtUJRsYeDGgGZR4sKVP2</td>\n",
              "      <td>healthy</td>\n",
              "      <td>/content/Coswara-Data/20200424/R4AY1hLOZtUJRsY...</td>\n",
              "      <td>0</td>\n",
              "      <td>0</td>\n",
              "      <td>coswara</td>\n",
              "    </tr>\n",
              "    <tr>\n",
              "      <th>0</th>\n",
              "      <td>HK3FfcI5SyXc7CtQMaQiMQ2ia1n2</td>\n",
              "      <td>positive_asymp</td>\n",
              "      <td>/content/Coswara-Data/20210603/HK3FfcI5SyXc7Ct...</td>\n",
              "      <td>0</td>\n",
              "      <td>0</td>\n",
              "      <td>coswara</td>\n",
              "    </tr>\n",
              "  </tbody>\n",
              "</table>\n",
              "</div>\n",
              "      <button class=\"colab-df-convert\" onclick=\"convertToInteractive('df-64a25b6c-89ae-4792-b4fd-1776eb3a753a')\"\n",
              "              title=\"Convert this dataframe to an interactive table.\"\n",
              "              style=\"display:none;\">\n",
              "        \n",
              "  <svg xmlns=\"http://www.w3.org/2000/svg\" height=\"24px\"viewBox=\"0 0 24 24\"\n",
              "       width=\"24px\">\n",
              "    <path d=\"M0 0h24v24H0V0z\" fill=\"none\"/>\n",
              "    <path d=\"M18.56 5.44l.94 2.06.94-2.06 2.06-.94-2.06-.94-.94-2.06-.94 2.06-2.06.94zm-11 1L8.5 8.5l.94-2.06 2.06-.94-2.06-.94L8.5 2.5l-.94 2.06-2.06.94zm10 10l.94 2.06.94-2.06 2.06-.94-2.06-.94-.94-2.06-.94 2.06-2.06.94z\"/><path d=\"M17.41 7.96l-1.37-1.37c-.4-.4-.92-.59-1.43-.59-.52 0-1.04.2-1.43.59L10.3 9.45l-7.72 7.72c-.78.78-.78 2.05 0 2.83L4 21.41c.39.39.9.59 1.41.59.51 0 1.02-.2 1.41-.59l7.78-7.78 2.81-2.81c.8-.78.8-2.07 0-2.86zM5.41 20L4 18.59l7.72-7.72 1.47 1.35L5.41 20z\"/>\n",
              "  </svg>\n",
              "      </button>\n",
              "      \n",
              "  <style>\n",
              "    .colab-df-container {\n",
              "      display:flex;\n",
              "      flex-wrap:wrap;\n",
              "      gap: 12px;\n",
              "    }\n",
              "\n",
              "    .colab-df-convert {\n",
              "      background-color: #E8F0FE;\n",
              "      border: none;\n",
              "      border-radius: 50%;\n",
              "      cursor: pointer;\n",
              "      display: none;\n",
              "      fill: #1967D2;\n",
              "      height: 32px;\n",
              "      padding: 0 0 0 0;\n",
              "      width: 32px;\n",
              "    }\n",
              "\n",
              "    .colab-df-convert:hover {\n",
              "      background-color: #E2EBFA;\n",
              "      box-shadow: 0px 1px 2px rgba(60, 64, 67, 0.3), 0px 1px 3px 1px rgba(60, 64, 67, 0.15);\n",
              "      fill: #174EA6;\n",
              "    }\n",
              "\n",
              "    [theme=dark] .colab-df-convert {\n",
              "      background-color: #3B4455;\n",
              "      fill: #D2E3FC;\n",
              "    }\n",
              "\n",
              "    [theme=dark] .colab-df-convert:hover {\n",
              "      background-color: #434B5C;\n",
              "      box-shadow: 0px 1px 3px 1px rgba(0, 0, 0, 0.15);\n",
              "      filter: drop-shadow(0px 1px 2px rgba(0, 0, 0, 0.3));\n",
              "      fill: #FFFFFF;\n",
              "    }\n",
              "  </style>\n",
              "\n",
              "      <script>\n",
              "        const buttonEl =\n",
              "          document.querySelector('#df-64a25b6c-89ae-4792-b4fd-1776eb3a753a button.colab-df-convert');\n",
              "        buttonEl.style.display =\n",
              "          google.colab.kernel.accessAllowed ? 'block' : 'none';\n",
              "\n",
              "        async function convertToInteractive(key) {\n",
              "          const element = document.querySelector('#df-64a25b6c-89ae-4792-b4fd-1776eb3a753a');\n",
              "          const dataTable =\n",
              "            await google.colab.kernel.invokeFunction('convertToInteractive',\n",
              "                                                     [key], {});\n",
              "          if (!dataTable) return;\n",
              "\n",
              "          const docLinkHtml = 'Like what you see? Visit the ' +\n",
              "            '<a target=\"_blank\" href=https://colab.research.google.com/notebooks/data_table.ipynb>data table notebook</a>'\n",
              "            + ' to learn more about interactive tables.';\n",
              "          element.innerHTML = '';\n",
              "          dataTable['output_type'] = 'display_data';\n",
              "          await google.colab.output.renderOutput(dataTable, element);\n",
              "          const docLink = document.createElement('div');\n",
              "          docLink.innerHTML = docLinkHtml;\n",
              "          element.appendChild(docLink);\n",
              "        }\n",
              "      </script>\n",
              "    </div>\n",
              "  </div>\n",
              "  "
            ],
            "text/plain": [
              "                             ID          STATUS  ... ORC  DataSet\n",
              "0  OC99RqHzOjNvaA0rJhPUgP4PM2o1         healthy  ...   0  coswara\n",
              "0  Fh3hBZZRh2UXXicTNGMei8ikbSu2  positive_asymp  ...   0  coswara\n",
              "0  ZIsSazVaDRZmnV0GzL164wnjQGV2         healthy  ...   0  coswara\n",
              "0  R4AY1hLOZtUJRsYeDGgGZR4sKVP2         healthy  ...   0  coswara\n",
              "0  HK3FfcI5SyXc7CtQMaQiMQ2ia1n2  positive_asymp  ...   0  coswara\n",
              "\n",
              "[5 rows x 6 columns]"
            ]
          },
          "execution_count": 7,
          "metadata": {},
          "output_type": "execute_result"
        }
      ],
      "source": [
        "CosData   = pd.concat([positive,f_negative])\n",
        "CosData   = CosData.sample(frac=1)\n",
        "\n",
        "CosData.head()"
      ]
    },
    {
      "cell_type": "markdown",
      "metadata": {
        "id": "IWd7TgddcLCi"
      },
      "source": [
        "## Prepare dataset"
      ]
    },
    {
      "cell_type": "code",
      "execution_count": 10,
      "metadata": {
        "colab": {
          "base_uri": "https://localhost:8080/",
          "height": 206
        },
        "id": "vhG5icIXtP9R",
        "outputId": "87ab4810-f560-4ec8-bab0-cd6edddf868a"
      },
      "outputs": [
        {
          "output_type": "execute_result",
          "data": {
            "text/html": [
              "\n",
              "  <div id=\"df-7f9425bd-443b-45df-984a-42e1e8714867\">\n",
              "    <div class=\"colab-df-container\">\n",
              "      <div>\n",
              "<style scoped>\n",
              "    .dataframe tbody tr th:only-of-type {\n",
              "        vertical-align: middle;\n",
              "    }\n",
              "\n",
              "    .dataframe tbody tr th {\n",
              "        vertical-align: top;\n",
              "    }\n",
              "\n",
              "    .dataframe thead th {\n",
              "        text-align: right;\n",
              "    }\n",
              "</style>\n",
              "<table border=\"1\" class=\"dataframe\">\n",
              "  <thead>\n",
              "    <tr style=\"text-align: right;\">\n",
              "      <th></th>\n",
              "      <th>ID</th>\n",
              "      <th>Fever/MP</th>\n",
              "      <th>ORC</th>\n",
              "      <th>STATUS</th>\n",
              "      <th>DIR</th>\n",
              "      <th>DataSet</th>\n",
              "    </tr>\n",
              "  </thead>\n",
              "  <tbody>\n",
              "    <tr>\n",
              "      <th>0</th>\n",
              "      <td>6f52783a-df32-47e7-8429-e2ec42926fd9</td>\n",
              "      <td>0</td>\n",
              "      <td>0</td>\n",
              "      <td>symptomatic</td>\n",
              "      <td>/content/public_dataset/6f52783a-df32-47e7-842...</td>\n",
              "      <td>coughvid</td>\n",
              "    </tr>\n",
              "    <tr>\n",
              "      <th>1</th>\n",
              "      <td>fb880c3c-ca39-4456-80f2-a5f6c20614ae</td>\n",
              "      <td>0</td>\n",
              "      <td>0</td>\n",
              "      <td>healthy</td>\n",
              "      <td>/content/public_dataset/fb880c3c-ca39-4456-80f...</td>\n",
              "      <td>coughvid</td>\n",
              "    </tr>\n",
              "    <tr>\n",
              "      <th>2</th>\n",
              "      <td>79a12ab8-7497-4a70-871f-5486c6699f45</td>\n",
              "      <td>0</td>\n",
              "      <td>0</td>\n",
              "      <td>symptomatic</td>\n",
              "      <td>/content/public_dataset/79a12ab8-7497-4a70-871...</td>\n",
              "      <td>coughvid</td>\n",
              "    </tr>\n",
              "    <tr>\n",
              "      <th>3</th>\n",
              "      <td>6d9ea08f-896a-4320-92ec-4eb20c59a18c</td>\n",
              "      <td>0</td>\n",
              "      <td>0</td>\n",
              "      <td>healthy</td>\n",
              "      <td>/content/public_dataset/6d9ea08f-896a-4320-92e...</td>\n",
              "      <td>coughvid</td>\n",
              "    </tr>\n",
              "    <tr>\n",
              "      <th>4</th>\n",
              "      <td>4c0d7af1-ab1c-4cc9-a7e7-1de5222363c2</td>\n",
              "      <td>0</td>\n",
              "      <td>0</td>\n",
              "      <td>healthy</td>\n",
              "      <td>/content/public_dataset/4c0d7af1-ab1c-4cc9-a7e...</td>\n",
              "      <td>coughvid</td>\n",
              "    </tr>\n",
              "  </tbody>\n",
              "</table>\n",
              "</div>\n",
              "      <button class=\"colab-df-convert\" onclick=\"convertToInteractive('df-7f9425bd-443b-45df-984a-42e1e8714867')\"\n",
              "              title=\"Convert this dataframe to an interactive table.\"\n",
              "              style=\"display:none;\">\n",
              "        \n",
              "  <svg xmlns=\"http://www.w3.org/2000/svg\" height=\"24px\"viewBox=\"0 0 24 24\"\n",
              "       width=\"24px\">\n",
              "    <path d=\"M0 0h24v24H0V0z\" fill=\"none\"/>\n",
              "    <path d=\"M18.56 5.44l.94 2.06.94-2.06 2.06-.94-2.06-.94-.94-2.06-.94 2.06-2.06.94zm-11 1L8.5 8.5l.94-2.06 2.06-.94-2.06-.94L8.5 2.5l-.94 2.06-2.06.94zm10 10l.94 2.06.94-2.06 2.06-.94-2.06-.94-.94-2.06-.94 2.06-2.06.94z\"/><path d=\"M17.41 7.96l-1.37-1.37c-.4-.4-.92-.59-1.43-.59-.52 0-1.04.2-1.43.59L10.3 9.45l-7.72 7.72c-.78.78-.78 2.05 0 2.83L4 21.41c.39.39.9.59 1.41.59.51 0 1.02-.2 1.41-.59l7.78-7.78 2.81-2.81c.8-.78.8-2.07 0-2.86zM5.41 20L4 18.59l7.72-7.72 1.47 1.35L5.41 20z\"/>\n",
              "  </svg>\n",
              "      </button>\n",
              "      \n",
              "  <style>\n",
              "    .colab-df-container {\n",
              "      display:flex;\n",
              "      flex-wrap:wrap;\n",
              "      gap: 12px;\n",
              "    }\n",
              "\n",
              "    .colab-df-convert {\n",
              "      background-color: #E8F0FE;\n",
              "      border: none;\n",
              "      border-radius: 50%;\n",
              "      cursor: pointer;\n",
              "      display: none;\n",
              "      fill: #1967D2;\n",
              "      height: 32px;\n",
              "      padding: 0 0 0 0;\n",
              "      width: 32px;\n",
              "    }\n",
              "\n",
              "    .colab-df-convert:hover {\n",
              "      background-color: #E2EBFA;\n",
              "      box-shadow: 0px 1px 2px rgba(60, 64, 67, 0.3), 0px 1px 3px 1px rgba(60, 64, 67, 0.15);\n",
              "      fill: #174EA6;\n",
              "    }\n",
              "\n",
              "    [theme=dark] .colab-df-convert {\n",
              "      background-color: #3B4455;\n",
              "      fill: #D2E3FC;\n",
              "    }\n",
              "\n",
              "    [theme=dark] .colab-df-convert:hover {\n",
              "      background-color: #434B5C;\n",
              "      box-shadow: 0px 1px 3px 1px rgba(0, 0, 0, 0.15);\n",
              "      filter: drop-shadow(0px 1px 2px rgba(0, 0, 0, 0.3));\n",
              "      fill: #FFFFFF;\n",
              "    }\n",
              "  </style>\n",
              "\n",
              "      <script>\n",
              "        const buttonEl =\n",
              "          document.querySelector('#df-7f9425bd-443b-45df-984a-42e1e8714867 button.colab-df-convert');\n",
              "        buttonEl.style.display =\n",
              "          google.colab.kernel.accessAllowed ? 'block' : 'none';\n",
              "\n",
              "        async function convertToInteractive(key) {\n",
              "          const element = document.querySelector('#df-7f9425bd-443b-45df-984a-42e1e8714867');\n",
              "          const dataTable =\n",
              "            await google.colab.kernel.invokeFunction('convertToInteractive',\n",
              "                                                     [key], {});\n",
              "          if (!dataTable) return;\n",
              "\n",
              "          const docLinkHtml = 'Like what you see? Visit the ' +\n",
              "            '<a target=\"_blank\" href=https://colab.research.google.com/notebooks/data_table.ipynb>data table notebook</a>'\n",
              "            + ' to learn more about interactive tables.';\n",
              "          element.innerHTML = '';\n",
              "          dataTable['output_type'] = 'display_data';\n",
              "          await google.colab.output.renderOutput(dataTable, element);\n",
              "          const docLink = document.createElement('div');\n",
              "          docLink.innerHTML = docLinkHtml;\n",
              "          element.appendChild(docLink);\n",
              "        }\n",
              "      </script>\n",
              "    </div>\n",
              "  </div>\n",
              "  "
            ],
            "text/plain": [
              "                                     ID  ...   DataSet\n",
              "0  6f52783a-df32-47e7-8429-e2ec42926fd9  ...  coughvid\n",
              "1  fb880c3c-ca39-4456-80f2-a5f6c20614ae  ...  coughvid\n",
              "2  79a12ab8-7497-4a70-871f-5486c6699f45  ...  coughvid\n",
              "3  6d9ea08f-896a-4320-92ec-4eb20c59a18c  ...  coughvid\n",
              "4  4c0d7af1-ab1c-4cc9-a7e7-1de5222363c2  ...  coughvid\n",
              "\n",
              "[5 rows x 6 columns]"
            ]
          },
          "metadata": {},
          "execution_count": 10
        }
      ],
      "source": [
        "coughvid  = '/content/public_dataset/'\n",
        "custpath  = '/content/custom_dataset/' #Where mel spec images will be stored\n",
        "\n",
        "VidData   = pd.read_csv(os.path.join(coughvid,'metadata_compiled.csv'),header=0)\n",
        "VidData   = VidData.loc[VidData['cough_detected'] >= 0.9][['uuid','fever_muscle_pain','respiratory_condition','status']]\n",
        "VidData.dropna(inplace=True)\n",
        "\n",
        "extradata = VidData.loc[VidData['status']=='COVID-19']\n",
        "notradata = VidData.loc[VidData['status']!='COVID-19']\n",
        "\n",
        "TotData   = pd.concat([extradata,notradata],ignore_index= True)\n",
        "TotData['DIR'] = coughvid + TotData['uuid'] + '.webm'\n",
        "TotData['DataSet'] = 'coughvid'\n",
        "TotData['fever_muscle_pain']    = TotData['fever_muscle_pain'].apply(int)\n",
        "TotData['respiratory_condition']= TotData['respiratory_condition'].apply(int)\n",
        "## TotData   = pd.concat([CosData,TotData.rename(columns={'uuid':'ID','status':'STATUS','fever_muscle_pain':'Fever/MP','respiratory_condition':'ORC'})])\n",
        "TotData   = TotData.rename(columns={'uuid':'ID','status':'STATUS','fever_muscle_pain':'Fever/MP','respiratory_condition':'ORC'})\n",
        "TotData   = TotData.sample(frac=1).reset_index(drop=True)\n",
        "TotData.head()"
      ]
    },
    {
      "cell_type": "code",
      "source": [
        "TotData2 = TotData[\"STATUS\"].unique()\n",
        "print(TotData2)"
      ],
      "metadata": {
        "colab": {
          "base_uri": "https://localhost:8080/"
        },
        "id": "ooHBFV6X3KrK",
        "outputId": "681f3792-2f11-4558-f8b9-9e3a6db72049"
      },
      "execution_count": 11,
      "outputs": [
        {
          "output_type": "stream",
          "name": "stdout",
          "text": [
            "['symptomatic' 'healthy' 'COVID-19']\n"
          ]
        }
      ]
    },
    {
      "cell_type": "code",
      "source": [
        "covid_TotData = TotData[TotData[\"STATUS\"] == \"COVID-19\" ]\n",
        "symptomatic_TotData = TotData[TotData[\"STATUS\"] == \"symptomatic\" ]\n",
        "healthy_TotData = TotData[TotData[\"STATUS\"] == \"healthy\" ]\n",
        "\n",
        "print(len(covid_TotData) , len(symptomatic_TotData) , len(healthy_TotData))\n",
        "covid_TotData.head()\n",
        "\n",
        "\n"
      ],
      "metadata": {
        "colab": {
          "base_uri": "https://localhost:8080/",
          "height": 224
        },
        "id": "2WpMxd_Z7CXk",
        "outputId": "7fba27e3-794a-465b-c427-d59e8201c6e5"
      },
      "execution_count": 89,
      "outputs": [
        {
          "output_type": "stream",
          "name": "stdout",
          "text": [
            "441 949 4702\n"
          ]
        },
        {
          "output_type": "execute_result",
          "data": {
            "text/html": [
              "\n",
              "  <div id=\"df-ded3364c-0c14-412f-9a69-66ebc567ad0a\">\n",
              "    <div class=\"colab-df-container\">\n",
              "      <div>\n",
              "<style scoped>\n",
              "    .dataframe tbody tr th:only-of-type {\n",
              "        vertical-align: middle;\n",
              "    }\n",
              "\n",
              "    .dataframe tbody tr th {\n",
              "        vertical-align: top;\n",
              "    }\n",
              "\n",
              "    .dataframe thead th {\n",
              "        text-align: right;\n",
              "    }\n",
              "</style>\n",
              "<table border=\"1\" class=\"dataframe\">\n",
              "  <thead>\n",
              "    <tr style=\"text-align: right;\">\n",
              "      <th></th>\n",
              "      <th>ID</th>\n",
              "      <th>Fever/MP</th>\n",
              "      <th>ORC</th>\n",
              "      <th>STATUS</th>\n",
              "      <th>DIR</th>\n",
              "      <th>DataSet</th>\n",
              "    </tr>\n",
              "  </thead>\n",
              "  <tbody>\n",
              "    <tr>\n",
              "      <th>13</th>\n",
              "      <td>46c6c8ef-8b3d-42a1-b4a1-e86e6aeb1664</td>\n",
              "      <td>1</td>\n",
              "      <td>1</td>\n",
              "      <td>COVID-19</td>\n",
              "      <td>/content/public_dataset/46c6c8ef-8b3d-42a1-b4a...</td>\n",
              "      <td>coughvid</td>\n",
              "    </tr>\n",
              "    <tr>\n",
              "      <th>29</th>\n",
              "      <td>40de29df-7881-4cbf-9339-809f6a48ba39</td>\n",
              "      <td>0</td>\n",
              "      <td>0</td>\n",
              "      <td>COVID-19</td>\n",
              "      <td>/content/public_dataset/40de29df-7881-4cbf-933...</td>\n",
              "      <td>coughvid</td>\n",
              "    </tr>\n",
              "    <tr>\n",
              "      <th>42</th>\n",
              "      <td>e58d45f3-7d6e-48e6-801b-eafc15f1ec85</td>\n",
              "      <td>1</td>\n",
              "      <td>1</td>\n",
              "      <td>COVID-19</td>\n",
              "      <td>/content/public_dataset/e58d45f3-7d6e-48e6-801...</td>\n",
              "      <td>coughvid</td>\n",
              "    </tr>\n",
              "    <tr>\n",
              "      <th>43</th>\n",
              "      <td>015ec831-e765-44ee-aefc-10dfd95dec78</td>\n",
              "      <td>1</td>\n",
              "      <td>1</td>\n",
              "      <td>COVID-19</td>\n",
              "      <td>/content/public_dataset/015ec831-e765-44ee-aef...</td>\n",
              "      <td>coughvid</td>\n",
              "    </tr>\n",
              "    <tr>\n",
              "      <th>51</th>\n",
              "      <td>25b750e5-8a76-4c13-9fd8-851e45d1b5ed</td>\n",
              "      <td>0</td>\n",
              "      <td>1</td>\n",
              "      <td>COVID-19</td>\n",
              "      <td>/content/public_dataset/25b750e5-8a76-4c13-9fd...</td>\n",
              "      <td>coughvid</td>\n",
              "    </tr>\n",
              "  </tbody>\n",
              "</table>\n",
              "</div>\n",
              "      <button class=\"colab-df-convert\" onclick=\"convertToInteractive('df-ded3364c-0c14-412f-9a69-66ebc567ad0a')\"\n",
              "              title=\"Convert this dataframe to an interactive table.\"\n",
              "              style=\"display:none;\">\n",
              "        \n",
              "  <svg xmlns=\"http://www.w3.org/2000/svg\" height=\"24px\"viewBox=\"0 0 24 24\"\n",
              "       width=\"24px\">\n",
              "    <path d=\"M0 0h24v24H0V0z\" fill=\"none\"/>\n",
              "    <path d=\"M18.56 5.44l.94 2.06.94-2.06 2.06-.94-2.06-.94-.94-2.06-.94 2.06-2.06.94zm-11 1L8.5 8.5l.94-2.06 2.06-.94-2.06-.94L8.5 2.5l-.94 2.06-2.06.94zm10 10l.94 2.06.94-2.06 2.06-.94-2.06-.94-.94-2.06-.94 2.06-2.06.94z\"/><path d=\"M17.41 7.96l-1.37-1.37c-.4-.4-.92-.59-1.43-.59-.52 0-1.04.2-1.43.59L10.3 9.45l-7.72 7.72c-.78.78-.78 2.05 0 2.83L4 21.41c.39.39.9.59 1.41.59.51 0 1.02-.2 1.41-.59l7.78-7.78 2.81-2.81c.8-.78.8-2.07 0-2.86zM5.41 20L4 18.59l7.72-7.72 1.47 1.35L5.41 20z\"/>\n",
              "  </svg>\n",
              "      </button>\n",
              "      \n",
              "  <style>\n",
              "    .colab-df-container {\n",
              "      display:flex;\n",
              "      flex-wrap:wrap;\n",
              "      gap: 12px;\n",
              "    }\n",
              "\n",
              "    .colab-df-convert {\n",
              "      background-color: #E8F0FE;\n",
              "      border: none;\n",
              "      border-radius: 50%;\n",
              "      cursor: pointer;\n",
              "      display: none;\n",
              "      fill: #1967D2;\n",
              "      height: 32px;\n",
              "      padding: 0 0 0 0;\n",
              "      width: 32px;\n",
              "    }\n",
              "\n",
              "    .colab-df-convert:hover {\n",
              "      background-color: #E2EBFA;\n",
              "      box-shadow: 0px 1px 2px rgba(60, 64, 67, 0.3), 0px 1px 3px 1px rgba(60, 64, 67, 0.15);\n",
              "      fill: #174EA6;\n",
              "    }\n",
              "\n",
              "    [theme=dark] .colab-df-convert {\n",
              "      background-color: #3B4455;\n",
              "      fill: #D2E3FC;\n",
              "    }\n",
              "\n",
              "    [theme=dark] .colab-df-convert:hover {\n",
              "      background-color: #434B5C;\n",
              "      box-shadow: 0px 1px 3px 1px rgba(0, 0, 0, 0.15);\n",
              "      filter: drop-shadow(0px 1px 2px rgba(0, 0, 0, 0.3));\n",
              "      fill: #FFFFFF;\n",
              "    }\n",
              "  </style>\n",
              "\n",
              "      <script>\n",
              "        const buttonEl =\n",
              "          document.querySelector('#df-ded3364c-0c14-412f-9a69-66ebc567ad0a button.colab-df-convert');\n",
              "        buttonEl.style.display =\n",
              "          google.colab.kernel.accessAllowed ? 'block' : 'none';\n",
              "\n",
              "        async function convertToInteractive(key) {\n",
              "          const element = document.querySelector('#df-ded3364c-0c14-412f-9a69-66ebc567ad0a');\n",
              "          const dataTable =\n",
              "            await google.colab.kernel.invokeFunction('convertToInteractive',\n",
              "                                                     [key], {});\n",
              "          if (!dataTable) return;\n",
              "\n",
              "          const docLinkHtml = 'Like what you see? Visit the ' +\n",
              "            '<a target=\"_blank\" href=https://colab.research.google.com/notebooks/data_table.ipynb>data table notebook</a>'\n",
              "            + ' to learn more about interactive tables.';\n",
              "          element.innerHTML = '';\n",
              "          dataTable['output_type'] = 'display_data';\n",
              "          await google.colab.output.renderOutput(dataTable, element);\n",
              "          const docLink = document.createElement('div');\n",
              "          docLink.innerHTML = docLinkHtml;\n",
              "          element.appendChild(docLink);\n",
              "        }\n",
              "      </script>\n",
              "    </div>\n",
              "  </div>\n",
              "  "
            ],
            "text/plain": [
              "                                      ID  ...   DataSet\n",
              "13  46c6c8ef-8b3d-42a1-b4a1-e86e6aeb1664  ...  coughvid\n",
              "29  40de29df-7881-4cbf-9339-809f6a48ba39  ...  coughvid\n",
              "42  e58d45f3-7d6e-48e6-801b-eafc15f1ec85  ...  coughvid\n",
              "43  015ec831-e765-44ee-aefc-10dfd95dec78  ...  coughvid\n",
              "51  25b750e5-8a76-4c13-9fd8-851e45d1b5ed  ...  coughvid\n",
              "\n",
              "[5 rows x 6 columns]"
            ]
          },
          "metadata": {},
          "execution_count": 89
        }
      ]
    },
    {
      "cell_type": "markdown",
      "source": [
        "# Data Augmentaion"
      ],
      "metadata": {
        "id": "1n9yOz0LWYu7"
      }
    },
    {
      "cell_type": "code",
      "source": [
        "pip install audiomentations"
      ],
      "metadata": {
        "id": "3cm6pyJv9bBR"
      },
      "execution_count": null,
      "outputs": []
    },
    {
      "cell_type": "code",
      "source": [
        "from audiomentations import Compose, AddGaussianNoise, TimeStretch, PitchShift, Shift\n",
        "import soundfile as sf\n",
        "import librosa"
      ],
      "metadata": {
        "id": "ypLY_yLW8z4a"
      },
      "execution_count": 16,
      "outputs": []
    },
    {
      "cell_type": "code",
      "source": [
        "augment = Compose([\n",
        "    AddGaussianNoise(min_amplitude=0.001, max_amplitude=0.015, p=0.5),\n",
        "    TimeStretch(min_rate=0.8, max_rate=1.25, p=0.5),\n",
        "    PitchShift(min_semitones=-4, max_semitones=4, p=0.5),\n",
        "    Shift(min_fraction=-0.5, max_fraction=0.5, p=0.5),\n",
        "])\n",
        "\n",
        "os.makedirs(\"augmented_data\")\n",
        "idx=0;\n",
        "for audio_file in tqdm(covid_TotData[\"DIR\"]):\n",
        "  try:\n",
        "    samples, sr = librosa.load(audio_file) #get audio file from dataset\n",
        "    augmented_sample = augment(samples=samples, sample_rate=sr)\n",
        "    sf.write(\"/content/augmented_data/\" + audio_file.split(\"/\")[-1][0:-5] + \".wav\", augmented_sample, sr) #write with wav extantion\n",
        "    if idx ==0: \n",
        "      aug_positive_samples = covid_TotData.loc[covid_TotData['ID'] == audio_file.split(\"/\")[-1][0:-5]] # initalize new table aug_positive_samples\n",
        "    else:\n",
        "      aug_positive_samples = aug_positive_samples.append(covid_TotData.loc[covid_TotData['ID'] == audio_file.split(\"/\")[-1][0:-5]],ignore_index=True)\n",
        "    idx=idx + 1\n",
        "  except:\n",
        "    print(\"\\n File Not Found :))\")"
      ],
      "metadata": {
        "id": "cFc5JJxi8DV7"
      },
      "execution_count": null,
      "outputs": []
    },
    {
      "cell_type": "code",
      "source": [
        "print(aug_positive_samples)"
      ],
      "metadata": {
        "colab": {
          "base_uri": "https://localhost:8080/"
        },
        "id": "6wWrzOY_UJdE",
        "outputId": "767044ae-b319-4327-b988-10b8aa92d65c"
      },
      "execution_count": 179,
      "outputs": [
        {
          "output_type": "stream",
          "name": "stdout",
          "text": [
            "                                       ID  ...   DataSet\n",
            "0    46c6c8ef-8b3d-42a1-b4a1-e86e6aeb1664  ...  coughvid\n",
            "1    40de29df-7881-4cbf-9339-809f6a48ba39  ...  coughvid\n",
            "2    e58d45f3-7d6e-48e6-801b-eafc15f1ec85  ...  coughvid\n",
            "3    015ec831-e765-44ee-aefc-10dfd95dec78  ...  coughvid\n",
            "4    25b750e5-8a76-4c13-9fd8-851e45d1b5ed  ...  coughvid\n",
            "..                                    ...  ...       ...\n",
            "429  61924ecf-e529-41de-b3a8-626bc58e044d  ...  coughvid\n",
            "430  afd37003-52a9-44ba-bcf4-7fc7d637ad37  ...  coughvid\n",
            "431  28c76cca-15d8-490a-a785-9bbb5c21fd26  ...  coughvid\n",
            "432  0f8d80f9-700e-4069-924d-e15f29d7c19a  ...  coughvid\n",
            "433  826697aa-c314-45d2-9a09-b726571ca407  ...  coughvid\n",
            "\n",
            "[434 rows x 6 columns]\n"
          ]
        }
      ]
    },
    {
      "cell_type": "markdown",
      "metadata": {
        "id": "ZzwONWen17O_"
      },
      "source": [
        "## Feature Extraction"
      ]
    },
    {
      "cell_type": "code",
      "execution_count": null,
      "metadata": {
        "id": "SWItHo7ZtR4i"
      },
      "outputs": [],
      "source": [
        "def feature_extractor(row):\n",
        "\n",
        "  name     = row[0]\n",
        "  try:\n",
        "    audio,sr = librosa.load(row[-4])\n",
        "    #For MFCCS \n",
        "    mfccs    = librosa.feature.mfcc(y=audio,sr=sr, n_mfcc=13)\n",
        "    mfccsscaled = np.mean(mfccs.T,axis=0)\n",
        "    \n",
        "    #Mel Spectogram\n",
        "    pylab.axis('off') # no axis\n",
        "    pylab.axes([0., 0., 1., 1.], frameon=False, xticks=[], yticks=[])\n",
        "    melspec  = librosa.feature.melspectrogram(y=audio,sr=sr)\n",
        "    s_db     = librosa.power_to_db(melspec, ref=np.max)\n",
        "    librosa.display.specshow(s_db)\n",
        "\n",
        "    savepath = os.path.join(custpath,name+'.png')\n",
        "    pylab.savefig(savepath, bbox_inches=None, pad_inches=0)\n",
        "    pylab.close()\n",
        "  except:\n",
        "    print('File cannot open')\n",
        "    return None,None\n",
        "  return mfccsscaled,savepath\n",
        "\n",
        "features = []\n",
        "diagnoses= []\n",
        "imgpaths = []"
      ]
    },
    {
      "cell_type": "code",
      "execution_count": null,
      "metadata": {
        "id": "B41Td6IM22HJ"
      },
      "outputs": [],
      "source": [
        "for row in tqdm(TotData.values):\n",
        "  mfccs,savepath  = feature_extractor(row)\n",
        "  features.append(mfccs)\n",
        "  imgpaths.append(savepath)\n",
        "  diagnoses.append([row[3],row[4]])"
      ]
    },
    {
      "cell_type": "markdown",
      "metadata": {
        "id": "SFLW0eUeJ_wm"
      },
      "source": [
        "---\n",
        "# 2- Data Sampling \n",
        "---"
      ]
    },
    {
      "cell_type": "markdown",
      "metadata": {
        "id": "U4FVk_DXPriE"
      },
      "source": [
        "## Remove Nans\n",
        "\n",
        "\n",
        "\n"
      ]
    },
    {
      "cell_type": "code",
      "execution_count": null,
      "metadata": {
        "id": "dZoFUQ2-LAsQ"
      },
      "outputs": [],
      "source": [
        "isnone = lambda x: x is not None\n",
        "label  = lambda x: 1 if x == 'positive_mild' or x =='positive_moderate' or x == 'COVID-19' else 0\n",
        "cast_x = list(map(isnone,features))\n",
        "data_y = list(map(label,TotData['STATUS']))\n",
        "\n",
        "data_x = [features[i] for i in range(len(features)) if cast_x[i] == True]\n",
        "data_xx= [imgpaths[i] for i in range(len(imgpaths)) if cast_x[i] == True]\n",
        "data_xp= [diagnoses[i]for i in range(len(diagnoses))if cast_x[i] == True]\n",
        "data_y = [data_y[i] for i in range(len(features)) if cast_x[i] == True]"
      ]
    },
    {
      "cell_type": "markdown",
      "metadata": {
        "id": "aiUQQC2UQXPc"
      },
      "source": [
        "## Prepare Data Splits\n",
        "  n = NUM_shuf\n",
        "\n",
        "\n",
        "\n"
      ]
    },
    {
      "cell_type": "code",
      "execution_count": null,
      "metadata": {
        "id": "3O6Nuvw7QcX_"
      },
      "outputs": [],
      "source": [
        "assert len(data_x) == len(data_xx) == len(data_xp), \"Data lengths do not match\"\n",
        "\n",
        "indices = np.arange(len(data_x))\n",
        "NUM_shuf= 1\n",
        "DATA    = {i:{} for i in range(NUM_shuf)}\n",
        "\n",
        "for i in range(NUM_shuf):\n",
        "  np.random.shuffle(indices)\n",
        "\n",
        "  DATA[i]['MFCCS'] = np.array([data_x[i] for i in indices])\n",
        "  DATA[i]['MEL']   = [data_xx[i] for i in indices]\n",
        "  DATA[i]['EXTRA'] = np.array([data_xp[i] for i in indices])\n",
        "  DATA[i]['LABELS']= np.array([data_y[i] for i in indices])"
      ]
    },
    {
      "cell_type": "code",
      "execution_count": null,
      "metadata": {
        "id": "c-dQGmNILDom"
      },
      "outputs": [],
      "source": [
        "# Save extracted features\n",
        "# Note: mel specs not saved\n",
        "import pickle\n",
        "pickle.dump( DATA, open( \"loaded_data.pickle\", \"wb\" ) )"
      ]
    },
    {
      "cell_type": "markdown",
      "metadata": {
        "id": "Wu99vXhGTpaM"
      },
      "source": [
        "italicized text## Data Generator\n",
        "*italicized text*\n",
        "\n"
      ]
    },
    {
      "cell_type": "code",
      "execution_count": null,
      "metadata": {
        "id": "hHyTFld8Toli"
      },
      "outputs": [],
      "source": [
        "class CustomDataset(tf.keras.utils.Sequence):\n",
        "  def __init__(self,imgfiles,labels,batch_size,target_size=(224,224),shuffle=False,scale=255,n_classes=1,n_channels=3):\n",
        "    self.batch_size = batch_size\n",
        "    self.dim        = target_size\n",
        "    self.labels     = labels\n",
        "    self.imgfiles   = imgfiles\n",
        "    self.n_classes  = n_classes\n",
        "    self.shuffle    = shuffle\n",
        "    self.n_channels = n_channels\n",
        "    self.scale      = scale\n",
        "\n",
        "    self.c          = 0\n",
        "    self.on_epoch_end()\n",
        "\n",
        "  def __len__(self):\n",
        "    # returns the number of batches\n",
        "    return int(np.floor(len(self.imgfiles) / self.batch_size))\n",
        "\n",
        "  def __getitem__(self, index):\n",
        "    # returns one batch\n",
        "    indexes = self.indexes[index*self.batch_size:(index+1)*self.batch_size]\n",
        "\n",
        "    # Generate data\n",
        "    X, y = self.__data_generation(indexes)\n",
        "    return X, y\n",
        "\n",
        "  def on_epoch_end(self):\n",
        "    self.indexes = np.arange(len(self.imgfiles))\n",
        "    if self.shuffle == True:\n",
        "      np.random.shuffle(self.indexes)\n",
        "  \n",
        "  def __data_generation(self, list_IDs_temp):\n",
        "    X = np.empty((self.batch_size, *self.dim, self.n_channels))\n",
        "    y = np.empty((self.batch_size), dtype=int)\n",
        "\n",
        "    # Generate data\n",
        "    for i, ID in enumerate(list_IDs_temp):\n",
        "        # Store sample\n",
        "        img   = cv2.imread(self.imgfiles[ID])\n",
        "        img   = cv2.resize(img,self.dim,interpolation = cv2.INTER_CUBIC)\n",
        "        X[i,] = img / self.scale\n",
        "\n",
        "        # Store class\n",
        "        y[i] = self.labels[ID]\n",
        "\n",
        "        self.c +=1\n",
        "    return X, y #keras.utils.to_categorical(y, num_classes=self.n_classes)\n",
        "\n",
        "\n",
        "class CustomPipeline(tf.keras.utils.Sequence):\n",
        "  def __init__(self,data_x,data_y,batch_size=48,shuffle=False,n_classes=1):\n",
        "    self.features   = data_x\n",
        "    self.labels     = data_y\n",
        "    self.batch_size = 48\n",
        "    self.shuffle    = shuffle\n",
        "    self.n_features = self.features.shape[1]\n",
        "    self.n_classes  = 1\n",
        "    self.on_epoch_end()\n",
        "\n",
        "  def __len__(self):\n",
        "    return int(np.floor(len(self.features) / self.batch_size))\n",
        "\n",
        "  def __getitem__(self,index):\n",
        "    indexes = self.indexes[index*self.batch_size:(index+1)*self.batch_size]\n",
        "    X, y = self.__data_generation(indexes)\n",
        "    return X, y\n",
        "\n",
        "  def on_epoch_end(self):\n",
        "    self.indexes = np.arange(len(self.features))\n",
        "    if self.shuffle == True:\n",
        "      np.random.shuffle(self.indexes)\n",
        "\n",
        "  def __data_generation(self,indexes):\n",
        "    X = np.empty((self.batch_size, self.n_features))\n",
        "    y = np.empty((self.batch_size), dtype=int)\n",
        "\n",
        "    for i, ID in enumerate(indexes):\n",
        "      X[i,] = self.features[ID]\n",
        "      y[i,] = self.labels[ID]\n",
        "    return X, y\n",
        "\n",
        "class MultipleInputGenerator(tf.keras.utils.Sequence):\n",
        "  \"\"\"Wrapper of two generatos for the combined input model\"\"\"\n",
        "\n",
        "  def __init__(self, X1, X2, Y, batch_size,target_size=(224,224)):\n",
        "      self.genX1 = CustomPipeline(X1, Y, batch_size=batch_size,shuffle=False)\n",
        "      self.genX2 = CustomDataset (X2, Y, batch_size=batch_size,shuffle=False,target_size=target_size)\n",
        "\n",
        "  def __len__(self):\n",
        "      return self.genX1.__len__()\n",
        "\n",
        "  def __getitem__(self, index):\n",
        "      X1_batch, Y_batch = self.genX1.__getitem__(index)\n",
        "      X2_batch, Y_batch = self.genX2.__getitem__(index)\n",
        "      X_batch = [X1_batch, X2_batch]\n",
        "      return X_batch, Y_batch\n",
        "\n",
        "class TripleInputGenerator(tf.keras.utils.Sequence):\n",
        "  \"\"\"Wrapper of two generatos for the combined input model\"\"\"\n",
        "\n",
        "  def __init__(self, X1, X2, X3, Y, batch_size,target_size=(224,224)):\n",
        "      self.genX1 = CustomPipeline(X1, Y, batch_size=batch_size,shuffle=False)\n",
        "      self.genX2 = CustomDataset (X2, Y, batch_size=batch_size,shuffle=False,target_size=target_size)\n",
        "      self.genX3 = CustomPipeline(X3, Y, batch_size=batch_size,shuffle=False)\n",
        "  def __len__(self):\n",
        "      return self.genX1.__len__()\n",
        "\n",
        "  def __getitem__(self, index):\n",
        "      X1_batch, Y_batch = self.genX1.__getitem__(index)\n",
        "      X2_batch, Y_batch = self.genX2.__getitem__(index)\n",
        "      X3_batch, Y_batch = self.genX3.__getitem__(index)\n",
        "\n",
        "      X_batch = [X1_batch,X1_batch,X2_batch, X3_batch]\n",
        "      return X_batch, Y_batch"
      ]
    },
    {
      "cell_type": "markdown",
      "metadata": {
        "id": "fM6PyqEbJ4UL"
      },
      "source": [
        "---\n",
        "# 3- Training and Evaluation\n",
        "---"
      ]
    },
    {
      "cell_type": "code",
      "execution_count": null,
      "metadata": {
        "id": "6KJaZZlziX7D"
      },
      "outputs": [],
      "source": [
        "from sklearn.metrics import roc_auc_score\n",
        "from keras.callbacks import Callback\n",
        "class Evaluation(keras.callbacks.Callback):\n",
        "  \n",
        "  def __init__(self, val_data_gen, val_labels, test_data_gen, test_labels):\n",
        "    super(Callback, self).__init__()\n",
        "    self.test_data = test_data_gen\n",
        "    self.val_labels = val_labels\n",
        "    self.val_data = val_data_gen\n",
        "    self.test_labels = test_labels\n",
        "\n",
        "  def on_epoch_end(self, epoch, logs=None):\n",
        "    y_preds = self.model.predict_generator(self.val_data)\n",
        "    print(' | val_auc:', roc_auc_score(self.val_labels[:len(y_preds)], y_preds))\n",
        "\n",
        "    y_preds = self.model.predict_generator(self.test_data)\n",
        "    print(' | test_auc:', roc_auc_score(self.test_labels[:len(y_preds)], y_preds))\n"
      ]
    },
    {
      "cell_type": "code",
      "execution_count": null,
      "metadata": {
        "id": "F-K8cfEroEPI"
      },
      "outputs": [],
      "source": [
        ""
      ]
    },
    {
      "cell_type": "code",
      "execution_count": null,
      "metadata": {
        "id": "Zd-yDjcWoFW2"
      },
      "outputs": [],
      "source": [
        ""
      ]
    },
    {
      "cell_type": "code",
      "execution_count": null,
      "metadata": {
        "id": "ht4-ENQ6oIAH"
      },
      "outputs": [],
      "source": [
        ""
      ]
    },
    {
      "cell_type": "code",
      "execution_count": null,
      "metadata": {
        "id": "v_4Yd6vQoL0y"
      },
      "outputs": [],
      "source": [
        ""
      ]
    },
    {
      "cell_type": "code",
      "execution_count": null,
      "metadata": {
        "id": "LSx3PCjCoRwL"
      },
      "outputs": [],
      "source": [
        ""
      ]
    },
    {
      "cell_type": "code",
      "execution_count": null,
      "metadata": {
        "id": "K7GjtYHHj6Jk"
      },
      "outputs": [],
      "source": [
        "from tensorflow.keras.applications.resnet50 import ResNet50\n",
        "from keras.preprocessing import image\n",
        "from tensorflow.keras.applications.resnet50 import preprocess_input\n",
        "\n",
        "from tensorflow.keras.layers import Dense, GlobalAveragePooling2D\n",
        "\n",
        "#model = ResNet50(weights='imagenet', include_top=False)"
      ]
    },
    {
      "cell_type": "code",
      "execution_count": null,
      "metadata": {
        "id": "S1bC_WKGhf3-"
      },
      "outputs": [],
      "source": [
        "def build_model():\n",
        "  '''Function to build ensemble model'''\n",
        "  # First Model\n",
        "  inp1   = Input(shape=13)\n",
        "  lay1   = Dense(units=256,activation='relu',kernel_initializer='GlorotUniform')(inp1)\n",
        "  lay2   = BatchNormalization()(lay1)\n",
        "  lay3   = Dropout(0.5)(lay2)\n",
        "  lay4   = Dense(units=256,activation='relu',kernel_initializer='GlorotUniform')(lay3)\n",
        "  lay5   = BatchNormalization()(lay4)\n",
        "  lay6   = Dropout(0.5)(lay5)\n",
        "\n",
        "  #first +1 model\n",
        "  inp11   = Input(shape=13)\n",
        "  lay11   = Dense(units=64,activation='relu',kernel_initializer='GlorotUniform')(inp1)\n",
        "  lay21   = BatchNormalization()(lay1)\n",
        "  lay31   = Dropout(0.5)(lay2)\n",
        "  lay41   = Dense(units=64,activation='relu',kernel_initializer='GlorotUniform')(lay3)\n",
        "  lay51   = BatchNormalization()(lay4)\n",
        "  lay61   = Dropout(0.5)(lay5)\n",
        "\n",
        "  # first merge input models\n",
        "  merge1 = concatenate([lay6,lay61])\n",
        "\n",
        "# resnet\n",
        "  inp2   = ResNet50(weights='imagenet', include_top=False)\n",
        "  x = inp2.output\n",
        "\n",
        "#first branch \n",
        "  x11 = GlobalAveragePooling2D()(x)\n",
        "  x21   = BatchNormalization()(x11)\n",
        "  x31   = Dropout(0.5)(x21)\n",
        "\n",
        "#second branch\n",
        "  x12 = GlobalAveragePooling2D()(x)\n",
        "  x22   = BatchNormalization()(x12)\n",
        "  x32   = Dropout(0.5)(x22)\n",
        "\n",
        "#merge resnet \n",
        "  mergeXX = concatenate([x31,x32])\n",
        "  x13   = BatchNormalization()(mergeXX)\n",
        "  x23   = Dropout(0.5)(x13)\n",
        "\n",
        "\n",
        "  # Second Model\n",
        "#  inp2   = Input(shape=(64,64,3))\n",
        "#  lay1_  = Conv2D(32, (3, 3), strides=(2, 2))(inp2)\n",
        "#  lay2_  = AveragePooling2D((2, 2), strides=(2,2))(lay1_)\n",
        "#  lay3_  = BatchNormalization()(lay2_)\n",
        "#  lay4_  = Activation('relu')(lay3_)\n",
        "\n",
        " # lay5_  = Conv2D(64, (3, 3), padding=\"same\") (lay4_)\n",
        " # lay6_  = AveragePooling2D((2, 2), strides=(2,2)) (lay5_)\n",
        " # lay7_  = BatchNormalization()(lay6_)\n",
        "  #lay8_  = Activation('relu')(lay7_)\n",
        "\n",
        " # lay9_  = Conv2D(64, (3, 3), padding=\"same\") (lay8_)\n",
        " # lay10_ = AveragePooling2D((2, 2), strides=(2,2)) (lay9_)\n",
        "  #lay11_ = BatchNormalization()(lay10_)\n",
        "  #lay12_ = Activation('relu')(lay11_)\n",
        "\n",
        " # lay13_ = Flatten()(lay12_)\n",
        " # lay14_ = Dense(units=256,activation='relu',kernel_initializer='GlorotUniform')(lay13_)\n",
        " # lay15_ = Dropout(rate=0.5)(lay14_)\n",
        "\n",
        "  # Third model\n",
        "  inp3   = Input(shape=2)\n",
        "  lay31  = Dense(units=5,activation='relu',kernel_initializer='GlorotUniform')(inp3)\n",
        "  lay32  = BatchNormalization()(lay31)\n",
        "  lay33  = Dropout(0.5)(lay32)\n",
        "  lay34  = Dense(units=64,activation='relu',kernel_initializer='GlorotUniform')(lay33)\n",
        "  lay35  = BatchNormalization()(lay34)\n",
        "  lay36  = Dropout(0.5)(lay35)\n",
        "\n",
        " # second merge input models\n",
        "  merge2 = concatenate([merge1,lay36])\n",
        "\n",
        "  # merge input models\n",
        "  merge3 = concatenate([x23, merge2])\n",
        "\n",
        "  # interpretation model\n",
        "  hidden1 = Dense(256, activation='relu')(merge3)\n",
        "  hidden2  = BatchNormalization()(hidden1)\n",
        "  hidden3  = Dropout(0.5)(hidden2)\n",
        "  output  = Dense(1, activation='sigmoid')(hidden3)\n",
        "  MERGM   = Model(inputs=[inp1,inp11 ,inp2.input,inp3], outputs=output)\n",
        "  \n",
        "  for layer in inp2.layers:\n",
        "    layer.trainable = False\n",
        "\n",
        "\n",
        "  return MERGM"
      ]
    },
    {
      "cell_type": "code",
      "execution_count": null,
      "metadata": {
        "colab": {
          "base_uri": "https://localhost:8080/"
        },
        "id": "Ec4x7Y5fIve5",
        "outputId": "de7efc57-7b65-4612-80d0-b90a9d55d162"
      },
      "outputs": [
        {
          "name": "stderr",
          "output_type": "stream",
          "text": [
            "/usr/local/lib/python3.7/dist-packages/ipykernel_launcher.py:47: UserWarning: `Model.fit_generator` is deprecated and will be removed in a future version. Please use `Model.fit`, which supports generators.\n"
          ]
        },
        {
          "name": "stdout",
          "output_type": "stream",
          "text": [
            "Epoch 1/30\n"
          ]
        },
        {
          "name": "stderr",
          "output_type": "stream",
          "text": [
            "/usr/local/lib/python3.7/dist-packages/ipykernel_launcher.py:13: UserWarning: `Model.predict_generator` is deprecated and will be removed in a future version. Please use `Model.predict`, which supports generators.\n",
            "  del sys.path[0]\n"
          ]
        },
        {
          "name": "stdout",
          "output_type": "stream",
          "text": [
            " | val_auc: 0.5978106185002736\n"
          ]
        },
        {
          "name": "stderr",
          "output_type": "stream",
          "text": [
            "/usr/local/lib/python3.7/dist-packages/ipykernel_launcher.py:16: UserWarning: `Model.predict_generator` is deprecated and will be removed in a future version. Please use `Model.predict`, which supports generators.\n",
            "  app.launch_new_instance()\n"
          ]
        },
        {
          "name": "stdout",
          "output_type": "stream",
          "text": [
            " | test_auc: 0.6468855677975346\n"
          ]
        },
        {
          "name": "stderr",
          "output_type": "stream",
          "text": [
            "/usr/local/lib/python3.7/dist-packages/keras/engine/functional.py:1410: CustomMaskWarning: Custom mask layers require a config and must override get_config. When loading, the custom mask layer must be passed to the custom_objects argument.\n",
            "  layer_config = serialize_layer_fn(layer)\n"
          ]
        },
        {
          "name": "stdout",
          "output_type": "stream",
          "text": [
            "32/32 - 409s - loss: 0.9398 - auc: 0.6195 - val_loss: 2.0369 - val_auc: 0.5953 - 409s/epoch - 13s/step\n",
            "Epoch 2/30\n"
          ]
        },
        {
          "name": "stderr",
          "output_type": "stream",
          "text": [
            "/usr/local/lib/python3.7/dist-packages/ipykernel_launcher.py:13: UserWarning: `Model.predict_generator` is deprecated and will be removed in a future version. Please use `Model.predict`, which supports generators.\n",
            "  del sys.path[0]\n"
          ]
        },
        {
          "name": "stdout",
          "output_type": "stream",
          "text": [
            " | val_auc: 0.6575807334428023\n"
          ]
        },
        {
          "name": "stderr",
          "output_type": "stream",
          "text": [
            "/usr/local/lib/python3.7/dist-packages/ipykernel_launcher.py:16: UserWarning: `Model.predict_generator` is deprecated and will be removed in a future version. Please use `Model.predict`, which supports generators.\n",
            "  app.launch_new_instance()\n"
          ]
        },
        {
          "name": "stdout",
          "output_type": "stream",
          "text": [
            " | test_auc: 0.6627031744300207\n"
          ]
        },
        {
          "name": "stderr",
          "output_type": "stream",
          "text": [
            "/usr/local/lib/python3.7/dist-packages/keras/engine/functional.py:1410: CustomMaskWarning: Custom mask layers require a config and must override get_config. When loading, the custom mask layer must be passed to the custom_objects argument.\n",
            "  layer_config = serialize_layer_fn(layer)\n"
          ]
        },
        {
          "name": "stdout",
          "output_type": "stream",
          "text": [
            "32/32 - 377s - loss: 0.8377 - auc: 0.6749 - val_loss: 0.6515 - val_auc: 0.6569 - 377s/epoch - 12s/step\n",
            "Epoch 3/30\n"
          ]
        },
        {
          "name": "stderr",
          "output_type": "stream",
          "text": [
            "/usr/local/lib/python3.7/dist-packages/ipykernel_launcher.py:13: UserWarning: `Model.predict_generator` is deprecated and will be removed in a future version. Please use `Model.predict`, which supports generators.\n",
            "  del sys.path[0]\n"
          ]
        },
        {
          "name": "stdout",
          "output_type": "stream",
          "text": [
            " | val_auc: 0.6430213464696224\n"
          ]
        },
        {
          "name": "stderr",
          "output_type": "stream",
          "text": [
            "/usr/local/lib/python3.7/dist-packages/ipykernel_launcher.py:16: UserWarning: `Model.predict_generator` is deprecated and will be removed in a future version. Please use `Model.predict`, which supports generators.\n",
            "  app.launch_new_instance()\n"
          ]
        },
        {
          "name": "stdout",
          "output_type": "stream",
          "text": [
            " | test_auc: 0.6438311334133304\n"
          ]
        },
        {
          "name": "stderr",
          "output_type": "stream",
          "text": [
            "/usr/local/lib/python3.7/dist-packages/keras/engine/functional.py:1410: CustomMaskWarning: Custom mask layers require a config and must override get_config. When loading, the custom mask layer must be passed to the custom_objects argument.\n",
            "  layer_config = serialize_layer_fn(layer)\n"
          ]
        },
        {
          "name": "stdout",
          "output_type": "stream",
          "text": [
            "32/32 - 373s - loss: 0.7100 - auc: 0.7188 - val_loss: 0.6794 - val_auc: 0.6438 - 373s/epoch - 12s/step\n",
            "Epoch 4/30\n"
          ]
        },
        {
          "name": "stderr",
          "output_type": "stream",
          "text": [
            "/usr/local/lib/python3.7/dist-packages/ipykernel_launcher.py:13: UserWarning: `Model.predict_generator` is deprecated and will be removed in a future version. Please use `Model.predict`, which supports generators.\n",
            "  del sys.path[0]\n"
          ]
        },
        {
          "name": "stdout",
          "output_type": "stream",
          "text": [
            " | val_auc: 0.653968253968254\n"
          ]
        },
        {
          "name": "stderr",
          "output_type": "stream",
          "text": [
            "/usr/local/lib/python3.7/dist-packages/ipykernel_launcher.py:16: UserWarning: `Model.predict_generator` is deprecated and will be removed in a future version. Please use `Model.predict`, which supports generators.\n",
            "  app.launch_new_instance()\n"
          ]
        },
        {
          "name": "stdout",
          "output_type": "stream",
          "text": [
            " | test_auc: 0.6491763935856878\n"
          ]
        },
        {
          "name": "stderr",
          "output_type": "stream",
          "text": [
            "/usr/local/lib/python3.7/dist-packages/keras/engine/functional.py:1410: CustomMaskWarning: Custom mask layers require a config and must override get_config. When loading, the custom mask layer must be passed to the custom_objects argument.\n",
            "  layer_config = serialize_layer_fn(layer)\n"
          ]
        },
        {
          "name": "stdout",
          "output_type": "stream",
          "text": [
            "32/32 - 372s - loss: 0.7203 - auc: 0.7075 - val_loss: 0.6587 - val_auc: 0.6547 - 372s/epoch - 12s/step\n",
            "Epoch 5/30\n"
          ]
        },
        {
          "name": "stderr",
          "output_type": "stream",
          "text": [
            "/usr/local/lib/python3.7/dist-packages/ipykernel_launcher.py:13: UserWarning: `Model.predict_generator` is deprecated and will be removed in a future version. Please use `Model.predict`, which supports generators.\n",
            "  del sys.path[0]\n"
          ]
        },
        {
          "name": "stdout",
          "output_type": "stream",
          "text": [
            " | val_auc: 0.7414340448823207\n"
          ]
        },
        {
          "name": "stderr",
          "output_type": "stream",
          "text": [
            "/usr/local/lib/python3.7/dist-packages/ipykernel_launcher.py:16: UserWarning: `Model.predict_generator` is deprecated and will be removed in a future version. Please use `Model.predict`, which supports generators.\n",
            "  app.launch_new_instance()\n"
          ]
        },
        {
          "name": "stdout",
          "output_type": "stream",
          "text": [
            " | test_auc: 0.7505181629758918\n"
          ]
        },
        {
          "name": "stderr",
          "output_type": "stream",
          "text": [
            "/usr/local/lib/python3.7/dist-packages/keras/engine/functional.py:1410: CustomMaskWarning: Custom mask layers require a config and must override get_config. When loading, the custom mask layer must be passed to the custom_objects argument.\n",
            "  layer_config = serialize_layer_fn(layer)\n"
          ]
        },
        {
          "name": "stdout",
          "output_type": "stream",
          "text": [
            "32/32 - 369s - loss: 0.6631 - auc: 0.7213 - val_loss: 0.6465 - val_auc: 0.7411 - 369s/epoch - 12s/step\n",
            "Epoch 6/30\n"
          ]
        },
        {
          "name": "stderr",
          "output_type": "stream",
          "text": [
            "/usr/local/lib/python3.7/dist-packages/ipykernel_launcher.py:13: UserWarning: `Model.predict_generator` is deprecated and will be removed in a future version. Please use `Model.predict`, which supports generators.\n",
            "  del sys.path[0]\n"
          ]
        },
        {
          "name": "stdout",
          "output_type": "stream",
          "text": [
            " | val_auc: 0.7249042145593869\n"
          ]
        },
        {
          "name": "stderr",
          "output_type": "stream",
          "text": [
            "/usr/local/lib/python3.7/dist-packages/ipykernel_launcher.py:16: UserWarning: `Model.predict_generator` is deprecated and will be removed in a future version. Please use `Model.predict`, which supports generators.\n",
            "  app.launch_new_instance()\n"
          ]
        },
        {
          "name": "stdout",
          "output_type": "stream",
          "text": [
            " | test_auc: 0.7060106905203447\n"
          ]
        },
        {
          "name": "stderr",
          "output_type": "stream",
          "text": [
            "/usr/local/lib/python3.7/dist-packages/keras/engine/functional.py:1410: CustomMaskWarning: Custom mask layers require a config and must override get_config. When loading, the custom mask layer must be passed to the custom_objects argument.\n",
            "  layer_config = serialize_layer_fn(layer)\n"
          ]
        },
        {
          "name": "stdout",
          "output_type": "stream",
          "text": [
            "32/32 - 366s - loss: 0.6321 - auc: 0.7457 - val_loss: 0.6175 - val_auc: 0.7249 - 366s/epoch - 11s/step\n",
            "Epoch 7/30\n"
          ]
        },
        {
          "name": "stderr",
          "output_type": "stream",
          "text": [
            "/usr/local/lib/python3.7/dist-packages/ipykernel_launcher.py:13: UserWarning: `Model.predict_generator` is deprecated and will be removed in a future version. Please use `Model.predict`, which supports generators.\n",
            "  del sys.path[0]\n"
          ]
        },
        {
          "name": "stdout",
          "output_type": "stream",
          "text": [
            " | val_auc: 0.7548987411056377\n"
          ]
        },
        {
          "name": "stderr",
          "output_type": "stream",
          "text": [
            "/usr/local/lib/python3.7/dist-packages/ipykernel_launcher.py:16: UserWarning: `Model.predict_generator` is deprecated and will be removed in a future version. Please use `Model.predict`, which supports generators.\n",
            "  app.launch_new_instance()\n"
          ]
        },
        {
          "name": "stdout",
          "output_type": "stream",
          "text": [
            " | test_auc: 0.7626268135704157\n"
          ]
        },
        {
          "name": "stderr",
          "output_type": "stream",
          "text": [
            "/usr/local/lib/python3.7/dist-packages/keras/engine/functional.py:1410: CustomMaskWarning: Custom mask layers require a config and must override get_config. When loading, the custom mask layer must be passed to the custom_objects argument.\n",
            "  layer_config = serialize_layer_fn(layer)\n"
          ]
        },
        {
          "name": "stdout",
          "output_type": "stream",
          "text": [
            "32/32 - 377s - loss: 0.6109 - auc: 0.7568 - val_loss: 0.6097 - val_auc: 0.7540 - 377s/epoch - 12s/step\n",
            "Epoch 8/30\n"
          ]
        },
        {
          "name": "stderr",
          "output_type": "stream",
          "text": [
            "/usr/local/lib/python3.7/dist-packages/ipykernel_launcher.py:13: UserWarning: `Model.predict_generator` is deprecated and will be removed in a future version. Please use `Model.predict`, which supports generators.\n",
            "  del sys.path[0]\n"
          ]
        },
        {
          "name": "stdout",
          "output_type": "stream",
          "text": [
            " | val_auc: 0.7196496989600439\n"
          ]
        },
        {
          "name": "stderr",
          "output_type": "stream",
          "text": [
            "/usr/local/lib/python3.7/dist-packages/ipykernel_launcher.py:16: UserWarning: `Model.predict_generator` is deprecated and will be removed in a future version. Please use `Model.predict`, which supports generators.\n",
            "  app.launch_new_instance()\n"
          ]
        },
        {
          "name": "stdout",
          "output_type": "stream",
          "text": [
            " | test_auc: 0.7075379077124468\n"
          ]
        },
        {
          "name": "stderr",
          "output_type": "stream",
          "text": [
            "/usr/local/lib/python3.7/dist-packages/keras/engine/functional.py:1410: CustomMaskWarning: Custom mask layers require a config and must override get_config. When loading, the custom mask layer must be passed to the custom_objects argument.\n",
            "  layer_config = serialize_layer_fn(layer)\n"
          ]
        },
        {
          "name": "stdout",
          "output_type": "stream",
          "text": [
            "32/32 - 365s - loss: 0.5838 - auc: 0.7707 - val_loss: 0.6122 - val_auc: 0.7190 - 365s/epoch - 11s/step\n",
            "Epoch 9/30\n"
          ]
        },
        {
          "name": "stderr",
          "output_type": "stream",
          "text": [
            "/usr/local/lib/python3.7/dist-packages/ipykernel_launcher.py:13: UserWarning: `Model.predict_generator` is deprecated and will be removed in a future version. Please use `Model.predict`, which supports generators.\n",
            "  del sys.path[0]\n"
          ]
        },
        {
          "name": "stdout",
          "output_type": "stream",
          "text": [
            " | val_auc: 0.7586206896551724\n"
          ]
        },
        {
          "name": "stderr",
          "output_type": "stream",
          "text": [
            "/usr/local/lib/python3.7/dist-packages/ipykernel_launcher.py:16: UserWarning: `Model.predict_generator` is deprecated and will be removed in a future version. Please use `Model.predict`, which supports generators.\n",
            "  app.launch_new_instance()\n"
          ]
        },
        {
          "name": "stdout",
          "output_type": "stream",
          "text": [
            " | test_auc: 0.7876077233555143\n"
          ]
        },
        {
          "name": "stderr",
          "output_type": "stream",
          "text": [
            "/usr/local/lib/python3.7/dist-packages/keras/engine/functional.py:1410: CustomMaskWarning: Custom mask layers require a config and must override get_config. When loading, the custom mask layer must be passed to the custom_objects argument.\n",
            "  layer_config = serialize_layer_fn(layer)\n"
          ]
        },
        {
          "name": "stdout",
          "output_type": "stream",
          "text": [
            "32/32 - 366s - loss: 0.5811 - auc: 0.7758 - val_loss: 0.6033 - val_auc: 0.7582 - 366s/epoch - 11s/step\n",
            "Epoch 10/30\n"
          ]
        },
        {
          "name": "stderr",
          "output_type": "stream",
          "text": [
            "/usr/local/lib/python3.7/dist-packages/ipykernel_launcher.py:13: UserWarning: `Model.predict_generator` is deprecated and will be removed in a future version. Please use `Model.predict`, which supports generators.\n",
            "  del sys.path[0]\n"
          ]
        },
        {
          "name": "stdout",
          "output_type": "stream",
          "text": [
            " | val_auc: 0.7342090859332238\n"
          ]
        },
        {
          "name": "stderr",
          "output_type": "stream",
          "text": [
            "/usr/local/lib/python3.7/dist-packages/ipykernel_launcher.py:16: UserWarning: `Model.predict_generator` is deprecated and will be removed in a future version. Please use `Model.predict`, which supports generators.\n",
            "  app.launch_new_instance()\n"
          ]
        },
        {
          "name": "stdout",
          "output_type": "stream",
          "text": [
            " | test_auc: 0.7806261590487619\n"
          ]
        },
        {
          "name": "stderr",
          "output_type": "stream",
          "text": [
            "/usr/local/lib/python3.7/dist-packages/keras/engine/functional.py:1410: CustomMaskWarning: Custom mask layers require a config and must override get_config. When loading, the custom mask layer must be passed to the custom_objects argument.\n",
            "  layer_config = serialize_layer_fn(layer)\n"
          ]
        },
        {
          "name": "stdout",
          "output_type": "stream",
          "text": [
            "32/32 - 358s - loss: 0.5809 - auc: 0.7763 - val_loss: 0.6020 - val_auc: 0.7328 - 358s/epoch - 11s/step\n",
            "Epoch 11/30\n"
          ]
        },
        {
          "name": "stderr",
          "output_type": "stream",
          "text": [
            "/usr/local/lib/python3.7/dist-packages/ipykernel_launcher.py:13: UserWarning: `Model.predict_generator` is deprecated and will be removed in a future version. Please use `Model.predict`, which supports generators.\n",
            "  del sys.path[0]\n"
          ]
        },
        {
          "name": "stdout",
          "output_type": "stream",
          "text": [
            " | val_auc: 0.7659551176792556\n"
          ]
        },
        {
          "name": "stderr",
          "output_type": "stream",
          "text": [
            "/usr/local/lib/python3.7/dist-packages/ipykernel_launcher.py:16: UserWarning: `Model.predict_generator` is deprecated and will be removed in a future version. Please use `Model.predict`, which supports generators.\n",
            "  app.launch_new_instance()\n"
          ]
        },
        {
          "name": "stdout",
          "output_type": "stream",
          "text": [
            " | test_auc: 0.7943711137776808\n"
          ]
        },
        {
          "name": "stderr",
          "output_type": "stream",
          "text": [
            "/usr/local/lib/python3.7/dist-packages/keras/engine/functional.py:1410: CustomMaskWarning: Custom mask layers require a config and must override get_config. When loading, the custom mask layer must be passed to the custom_objects argument.\n",
            "  layer_config = serialize_layer_fn(layer)\n"
          ]
        },
        {
          "name": "stdout",
          "output_type": "stream",
          "text": [
            "32/32 - 358s - loss: 0.5927 - auc: 0.7619 - val_loss: 0.5866 - val_auc: 0.7661 - 358s/epoch - 11s/step\n",
            "Epoch 12/30\n"
          ]
        },
        {
          "name": "stderr",
          "output_type": "stream",
          "text": [
            "/usr/local/lib/python3.7/dist-packages/ipykernel_launcher.py:13: UserWarning: `Model.predict_generator` is deprecated and will be removed in a future version. Please use `Model.predict`, which supports generators.\n",
            "  del sys.path[0]\n"
          ]
        },
        {
          "name": "stdout",
          "output_type": "stream",
          "text": [
            " | val_auc: 0.7384783798576903\n"
          ]
        },
        {
          "name": "stderr",
          "output_type": "stream",
          "text": [
            "/usr/local/lib/python3.7/dist-packages/ipykernel_launcher.py:16: UserWarning: `Model.predict_generator` is deprecated and will be removed in a future version. Please use `Model.predict`, which supports generators.\n",
            "  app.launch_new_instance()\n"
          ]
        },
        {
          "name": "stdout",
          "output_type": "stream",
          "text": [
            " | test_auc: 0.782153376240864\n"
          ]
        },
        {
          "name": "stderr",
          "output_type": "stream",
          "text": [
            "/usr/local/lib/python3.7/dist-packages/keras/engine/functional.py:1410: CustomMaskWarning: Custom mask layers require a config and must override get_config. When loading, the custom mask layer must be passed to the custom_objects argument.\n",
            "  layer_config = serialize_layer_fn(layer)\n"
          ]
        },
        {
          "name": "stdout",
          "output_type": "stream",
          "text": [
            "32/32 - 355s - loss: 0.5489 - auc: 0.7959 - val_loss: 0.5964 - val_auc: 0.7389 - 355s/epoch - 11s/step\n",
            "Epoch 13/30\n"
          ]
        },
        {
          "name": "stderr",
          "output_type": "stream",
          "text": [
            "/usr/local/lib/python3.7/dist-packages/ipykernel_launcher.py:13: UserWarning: `Model.predict_generator` is deprecated and will be removed in a future version. Please use `Model.predict`, which supports generators.\n",
            "  del sys.path[0]\n"
          ]
        },
        {
          "name": "stdout",
          "output_type": "stream",
          "text": [
            " | val_auc: 0.7425287356321839\n"
          ]
        },
        {
          "name": "stderr",
          "output_type": "stream",
          "text": [
            "/usr/local/lib/python3.7/dist-packages/ipykernel_launcher.py:16: UserWarning: `Model.predict_generator` is deprecated and will be removed in a future version. Please use `Model.predict`, which supports generators.\n",
            "  app.launch_new_instance()\n"
          ]
        },
        {
          "name": "stdout",
          "output_type": "stream",
          "text": [
            " | test_auc: 0.7848805497981891\n"
          ]
        },
        {
          "name": "stderr",
          "output_type": "stream",
          "text": [
            "/usr/local/lib/python3.7/dist-packages/keras/engine/functional.py:1410: CustomMaskWarning: Custom mask layers require a config and must override get_config. When loading, the custom mask layer must be passed to the custom_objects argument.\n",
            "  layer_config = serialize_layer_fn(layer)\n"
          ]
        },
        {
          "name": "stdout",
          "output_type": "stream",
          "text": [
            "32/32 - 356s - loss: 0.5571 - auc: 0.7871 - val_loss: 0.5906 - val_auc: 0.7427 - 356s/epoch - 11s/step\n",
            "Epoch 14/30\n"
          ]
        },
        {
          "name": "stderr",
          "output_type": "stream",
          "text": [
            "/usr/local/lib/python3.7/dist-packages/ipykernel_launcher.py:13: UserWarning: `Model.predict_generator` is deprecated and will be removed in a future version. Please use `Model.predict`, which supports generators.\n",
            "  del sys.path[0]\n"
          ]
        },
        {
          "name": "stdout",
          "output_type": "stream",
          "text": [
            " | val_auc: 0.741543513957307\n"
          ]
        },
        {
          "name": "stderr",
          "output_type": "stream",
          "text": [
            "/usr/local/lib/python3.7/dist-packages/ipykernel_launcher.py:16: UserWarning: `Model.predict_generator` is deprecated and will be removed in a future version. Please use `Model.predict`, which supports generators.\n",
            "  app.launch_new_instance()\n"
          ]
        },
        {
          "name": "stdout",
          "output_type": "stream",
          "text": [
            " | test_auc: 0.7866259408748772\n"
          ]
        },
        {
          "name": "stderr",
          "output_type": "stream",
          "text": [
            "/usr/local/lib/python3.7/dist-packages/keras/engine/functional.py:1410: CustomMaskWarning: Custom mask layers require a config and must override get_config. When loading, the custom mask layer must be passed to the custom_objects argument.\n",
            "  layer_config = serialize_layer_fn(layer)\n"
          ]
        },
        {
          "name": "stdout",
          "output_type": "stream",
          "text": [
            "32/32 - 358s - loss: 0.5421 - auc: 0.7991 - val_loss: 0.5827 - val_auc: 0.7423 - 358s/epoch - 11s/step\n",
            "Epoch 15/30\n"
          ]
        },
        {
          "name": "stderr",
          "output_type": "stream",
          "text": [
            "/usr/local/lib/python3.7/dist-packages/ipykernel_launcher.py:13: UserWarning: `Model.predict_generator` is deprecated and will be removed in a future version. Please use `Model.predict`, which supports generators.\n",
            "  del sys.path[0]\n"
          ]
        },
        {
          "name": "stdout",
          "output_type": "stream",
          "text": [
            " | val_auc: 0.7693486590038314\n"
          ]
        },
        {
          "name": "stderr",
          "output_type": "stream",
          "text": [
            "/usr/local/lib/python3.7/dist-packages/ipykernel_launcher.py:16: UserWarning: `Model.predict_generator` is deprecated and will be removed in a future version. Please use `Model.predict`, which supports generators.\n",
            "  app.launch_new_instance()\n"
          ]
        },
        {
          "name": "stdout",
          "output_type": "stream",
          "text": [
            " | test_auc: 0.7980800698156431\n"
          ]
        },
        {
          "name": "stderr",
          "output_type": "stream",
          "text": [
            "/usr/local/lib/python3.7/dist-packages/keras/engine/functional.py:1410: CustomMaskWarning: Custom mask layers require a config and must override get_config. When loading, the custom mask layer must be passed to the custom_objects argument.\n",
            "  layer_config = serialize_layer_fn(layer)\n"
          ]
        },
        {
          "name": "stdout",
          "output_type": "stream",
          "text": [
            "32/32 - 354s - loss: 0.5429 - auc: 0.7961 - val_loss: 0.5657 - val_auc: 0.7691 - 354s/epoch - 11s/step\n",
            "Epoch 16/30\n"
          ]
        },
        {
          "name": "stderr",
          "output_type": "stream",
          "text": [
            "/usr/local/lib/python3.7/dist-packages/ipykernel_launcher.py:13: UserWarning: `Model.predict_generator` is deprecated and will be removed in a future version. Please use `Model.predict`, which supports generators.\n",
            "  del sys.path[0]\n"
          ]
        },
        {
          "name": "stdout",
          "output_type": "stream",
          "text": [
            " | val_auc: 0.7588396278051449\n"
          ]
        },
        {
          "name": "stderr",
          "output_type": "stream",
          "text": [
            "/usr/local/lib/python3.7/dist-packages/ipykernel_launcher.py:16: UserWarning: `Model.predict_generator` is deprecated and will be removed in a future version. Please use `Model.predict`, which supports generators.\n",
            "  app.launch_new_instance()\n"
          ]
        },
        {
          "name": "stdout",
          "output_type": "stream",
          "text": [
            " | test_auc: 0.7876077233555143\n"
          ]
        },
        {
          "name": "stderr",
          "output_type": "stream",
          "text": [
            "/usr/local/lib/python3.7/dist-packages/keras/engine/functional.py:1410: CustomMaskWarning: Custom mask layers require a config and must override get_config. When loading, the custom mask layer must be passed to the custom_objects argument.\n",
            "  layer_config = serialize_layer_fn(layer)\n"
          ]
        },
        {
          "name": "stdout",
          "output_type": "stream",
          "text": [
            "32/32 - 357s - loss: 0.5323 - auc: 0.8092 - val_loss: 0.5659 - val_auc: 0.7587 - 357s/epoch - 11s/step\n",
            "Epoch 17/30\n"
          ]
        },
        {
          "name": "stderr",
          "output_type": "stream",
          "text": [
            "/usr/local/lib/python3.7/dist-packages/ipykernel_launcher.py:13: UserWarning: `Model.predict_generator` is deprecated and will be removed in a future version. Please use `Model.predict`, which supports generators.\n",
            "  del sys.path[0]\n"
          ]
        },
        {
          "name": "stdout",
          "output_type": "stream",
          "text": [
            " | val_auc: 0.7753694581280788\n"
          ]
        },
        {
          "name": "stderr",
          "output_type": "stream",
          "text": [
            "/usr/local/lib/python3.7/dist-packages/ipykernel_launcher.py:16: UserWarning: `Model.predict_generator` is deprecated and will be removed in a future version. Please use `Model.predict`, which supports generators.\n",
            "  app.launch_new_instance()\n"
          ]
        },
        {
          "name": "stdout",
          "output_type": "stream",
          "text": [
            " | test_auc: 0.7871713755863424\n"
          ]
        },
        {
          "name": "stderr",
          "output_type": "stream",
          "text": [
            "/usr/local/lib/python3.7/dist-packages/keras/engine/functional.py:1410: CustomMaskWarning: Custom mask layers require a config and must override get_config. When loading, the custom mask layer must be passed to the custom_objects argument.\n",
            "  layer_config = serialize_layer_fn(layer)\n"
          ]
        },
        {
          "name": "stdout",
          "output_type": "stream",
          "text": [
            "32/32 - 367s - loss: 0.5328 - auc: 0.8055 - val_loss: 0.5574 - val_auc: 0.7750 - 367s/epoch - 11s/step\n",
            "Epoch 18/30\n"
          ]
        },
        {
          "name": "stderr",
          "output_type": "stream",
          "text": [
            "/usr/local/lib/python3.7/dist-packages/ipykernel_launcher.py:13: UserWarning: `Model.predict_generator` is deprecated and will be removed in a future version. Please use `Model.predict`, which supports generators.\n",
            "  del sys.path[0]\n"
          ]
        },
        {
          "name": "stdout",
          "output_type": "stream",
          "text": [
            " | val_auc: 0.7638752052545156\n"
          ]
        },
        {
          "name": "stderr",
          "output_type": "stream",
          "text": [
            "/usr/local/lib/python3.7/dist-packages/ipykernel_launcher.py:16: UserWarning: `Model.predict_generator` is deprecated and will be removed in a future version. Please use `Model.predict`, which supports generators.\n",
            "  app.launch_new_instance()\n"
          ]
        },
        {
          "name": "stdout",
          "output_type": "stream",
          "text": [
            " | test_auc: 0.8005890694883822\n"
          ]
        },
        {
          "name": "stderr",
          "output_type": "stream",
          "text": [
            "/usr/local/lib/python3.7/dist-packages/keras/engine/functional.py:1410: CustomMaskWarning: Custom mask layers require a config and must override get_config. When loading, the custom mask layer must be passed to the custom_objects argument.\n",
            "  layer_config = serialize_layer_fn(layer)\n"
          ]
        },
        {
          "name": "stdout",
          "output_type": "stream",
          "text": [
            "32/32 - 371s - loss: 0.5420 - auc: 0.7982 - val_loss: 0.5578 - val_auc: 0.7633 - 371s/epoch - 12s/step\n",
            "Epoch 19/30\n"
          ]
        },
        {
          "name": "stderr",
          "output_type": "stream",
          "text": [
            "/usr/local/lib/python3.7/dist-packages/ipykernel_launcher.py:13: UserWarning: `Model.predict_generator` is deprecated and will be removed in a future version. Please use `Model.predict`, which supports generators.\n",
            "  del sys.path[0]\n"
          ]
        },
        {
          "name": "stdout",
          "output_type": "stream",
          "text": [
            " | val_auc: 0.7544608648056924\n"
          ]
        },
        {
          "name": "stderr",
          "output_type": "stream",
          "text": [
            "/usr/local/lib/python3.7/dist-packages/ipykernel_launcher.py:16: UserWarning: `Model.predict_generator` is deprecated and will be removed in a future version. Please use `Model.predict`, which supports generators.\n",
            "  app.launch_new_instance()\n"
          ]
        },
        {
          "name": "stdout",
          "output_type": "stream",
          "text": [
            " | test_auc: 0.7913166793934766\n"
          ]
        },
        {
          "name": "stderr",
          "output_type": "stream",
          "text": [
            "/usr/local/lib/python3.7/dist-packages/keras/engine/functional.py:1410: CustomMaskWarning: Custom mask layers require a config and must override get_config. When loading, the custom mask layer must be passed to the custom_objects argument.\n",
            "  layer_config = serialize_layer_fn(layer)\n"
          ]
        },
        {
          "name": "stdout",
          "output_type": "stream",
          "text": [
            "32/32 - 356s - loss: 0.5184 - auc: 0.8188 - val_loss: 0.5718 - val_auc: 0.7547 - 356s/epoch - 11s/step\n",
            "Epoch 20/30\n"
          ]
        },
        {
          "name": "stderr",
          "output_type": "stream",
          "text": [
            "/usr/local/lib/python3.7/dist-packages/ipykernel_launcher.py:13: UserWarning: `Model.predict_generator` is deprecated and will be removed in a future version. Please use `Model.predict`, which supports generators.\n",
            "  del sys.path[0]\n"
          ]
        },
        {
          "name": "stdout",
          "output_type": "stream",
          "text": [
            " | val_auc: 0.7715380405035577\n"
          ]
        },
        {
          "name": "stderr",
          "output_type": "stream",
          "text": [
            "/usr/local/lib/python3.7/dist-packages/ipykernel_launcher.py:16: UserWarning: `Model.predict_generator` is deprecated and will be removed in a future version. Please use `Model.predict`, which supports generators.\n",
            "  app.launch_new_instance()\n"
          ]
        },
        {
          "name": "stdout",
          "output_type": "stream",
          "text": [
            " | test_auc: 0.7943711137776808\n"
          ]
        },
        {
          "name": "stderr",
          "output_type": "stream",
          "text": [
            "/usr/local/lib/python3.7/dist-packages/keras/engine/functional.py:1410: CustomMaskWarning: Custom mask layers require a config and must override get_config. When loading, the custom mask layer must be passed to the custom_objects argument.\n",
            "  layer_config = serialize_layer_fn(layer)\n"
          ]
        },
        {
          "name": "stdout",
          "output_type": "stream",
          "text": [
            "32/32 - 358s - loss: 0.5148 - auc: 0.8175 - val_loss: 0.5571 - val_auc: 0.7714 - 358s/epoch - 11s/step\n",
            "Epoch 21/30\n"
          ]
        },
        {
          "name": "stderr",
          "output_type": "stream",
          "text": [
            "/usr/local/lib/python3.7/dist-packages/ipykernel_launcher.py:13: UserWarning: `Model.predict_generator` is deprecated and will be removed in a future version. Please use `Model.predict`, which supports generators.\n",
            "  del sys.path[0]\n"
          ]
        },
        {
          "name": "stdout",
          "output_type": "stream",
          "text": [
            " | val_auc: 0.7863163656267104\n"
          ]
        },
        {
          "name": "stderr",
          "output_type": "stream",
          "text": [
            "/usr/local/lib/python3.7/dist-packages/ipykernel_launcher.py:16: UserWarning: `Model.predict_generator` is deprecated and will be removed in a future version. Please use `Model.predict`, which supports generators.\n",
            "  app.launch_new_instance()\n"
          ]
        },
        {
          "name": "stdout",
          "output_type": "stream",
          "text": [
            " | test_auc: 0.7893531144322025\n"
          ]
        },
        {
          "name": "stderr",
          "output_type": "stream",
          "text": [
            "/usr/local/lib/python3.7/dist-packages/keras/engine/functional.py:1410: CustomMaskWarning: Custom mask layers require a config and must override get_config. When loading, the custom mask layer must be passed to the custom_objects argument.\n",
            "  layer_config = serialize_layer_fn(layer)\n"
          ]
        },
        {
          "name": "stdout",
          "output_type": "stream",
          "text": [
            "32/32 - 370s - loss: 0.5225 - auc: 0.8131 - val_loss: 0.5452 - val_auc: 0.7861 - 370s/epoch - 12s/step\n",
            "Epoch 22/30\n"
          ]
        },
        {
          "name": "stderr",
          "output_type": "stream",
          "text": [
            "/usr/local/lib/python3.7/dist-packages/ipykernel_launcher.py:13: UserWarning: `Model.predict_generator` is deprecated and will be removed in a future version. Please use `Model.predict`, which supports generators.\n",
            "  del sys.path[0]\n"
          ]
        },
        {
          "name": "stdout",
          "output_type": "stream",
          "text": [
            " | val_auc: 0.7794198139025725\n"
          ]
        },
        {
          "name": "stderr",
          "output_type": "stream",
          "text": [
            "/usr/local/lib/python3.7/dist-packages/ipykernel_launcher.py:16: UserWarning: `Model.predict_generator` is deprecated and will be removed in a future version. Please use `Model.predict`, which supports generators.\n",
            "  app.launch_new_instance()\n"
          ]
        },
        {
          "name": "stdout",
          "output_type": "stream",
          "text": [
            " | test_auc: 0.7960074179120759\n"
          ]
        },
        {
          "name": "stderr",
          "output_type": "stream",
          "text": [
            "/usr/local/lib/python3.7/dist-packages/keras/engine/functional.py:1410: CustomMaskWarning: Custom mask layers require a config and must override get_config. When loading, the custom mask layer must be passed to the custom_objects argument.\n",
            "  layer_config = serialize_layer_fn(layer)\n"
          ]
        },
        {
          "name": "stdout",
          "output_type": "stream",
          "text": [
            "32/32 - 358s - loss: 0.5182 - auc: 0.8188 - val_loss: 0.5531 - val_auc: 0.7794 - 358s/epoch - 11s/step\n",
            "Epoch 23/30\n"
          ]
        }
      ],
      "source": [
        "# Create directory to save models\n",
        "import matplotlib.pyplot as plt\n",
        "\n",
        "rt_sv_dir = '/content/models'\n",
        "!rm -r {rt_sv_dir}\n",
        "os.mkdir(rt_sv_dir)\n",
        "\n",
        "# Run each split\n",
        "for RUN in range(NUM_shuf):\n",
        "  MERGM = build_model()\n",
        "\n",
        "\n",
        "  MERGM.compile(\n",
        "      optimizer = 'Adam',\n",
        "      loss = 'BinaryCrossentropy',\n",
        "      metrics=['AUC'])\n",
        "\n",
        "  tfeatures = DATA[RUN]['MFCCS'][:int(0.8*len(data_x))]\n",
        "  textra    = DATA[RUN]['EXTRA'][:int(0.8*len(data_x))]\n",
        "  timgs     = DATA[RUN]['MEL'][:int(0.8*len(data_x))]\n",
        "  labels    = DATA[RUN]['LABELS'][:int(0.8*len(data_y))]\n",
        "\n",
        "  test_features= DATA[RUN]['MFCCS'][ int(0.8*len(data_x)): int(0.9*len(data_x))]\n",
        "  test_extra   = DATA[RUN]['EXTRA'][ int(0.8*len(data_x)): int(0.9*len(data_x))]\n",
        "  test_imgs    = DATA[RUN]['MEL'][ int(0.8*len(data_x)): int(0.9*len(data_x))]\n",
        "  test_labels  = DATA[RUN]['LABELS'][ int(0.8*len(data_x)): int(0.9*len(data_x))]\n",
        "                                        \n",
        "  val_features= DATA[RUN]['MFCCS'][ int(0.9*len(data_x)) :]\n",
        "  val_extra   = DATA[RUN]['EXTRA'][ int(0.9*len(data_x)) :]\n",
        "  val_imgs    = DATA[RUN]['MEL'][ int(0.9*len(data_x)) :]\n",
        "  val_labels  = DATA[RUN]['LABELS'][ int(0.9*len(data_x)) :]\n",
        "\n",
        "  imgs_em      = TripleInputGenerator(tfeatures,timgs,textra,labels,batch_size=48,target_size=(224,224))\n",
        "  TEST          = TripleInputGenerator(test_features,test_imgs,test_extra,test_labels,batch_size=48,target_size=(224,224))\n",
        "  VAL         = TripleInputGenerator(val_features,val_imgs,val_extra,val_labels,batch_size=48,target_size=(224,224))\n",
        "\n",
        "\n",
        "  evaluator = Evaluation(VAL, val_labels, TEST, test_labels)\n",
        "  checkpointer = keras.callbacks.ModelCheckpoint(filepath=os.path.join(os.path.join(rt_sv_dir, str(RUN)),\n",
        "                \"{epoch:03d}--{val_loss:.3f}--{loss:.3f}.hdf5\"), save_best_only=False)\n",
        "  os.mkdir(os.path.join(rt_sv_dir, str(RUN)))\n",
        "  history =  MERGM.fit_generator(\n",
        "                  imgs_em,\n",
        "                  epochs=30,\n",
        "                  validation_data=VAL, \n",
        "                  verbose=2, \n",
        "                  callbacks=[evaluator, checkpointer])\n",
        "  print(history.history.keys())\n",
        "  plt.plot(history.history['auc'])\n",
        "  plt.plot(history.history['val_auc'])\n",
        "  plt.title('model accuracy')\n",
        "  plt.ylabel('accuracy')\n",
        "  plt.xlabel('epoch')\n",
        "  plt.legend(['train', 'test'], loc='upper left')\n",
        "  plt.show()\n",
        "  # summarize history for loss\n",
        "  plt.plot(history.history['loss'])\n",
        "  plt.plot(history.history['val_loss'])\n",
        "  plt.title('model loss')\n",
        "  plt.ylabel('loss')\n",
        "  plt.xlabel('epoch')\n",
        "  plt.legend(['train', 'test'], loc='upper left')\n",
        "  plt.show()\n",
        "\n",
        "  MERGM_Record1 = MERGM.evaluate_generator(\n",
        "    TEST\n",
        "  )\n",
        "  print()\n",
        "  print('Results: Loss = {} , AUC = {} '.format(MERGM_Record1[0],MERGM_Record1[1]))\n",
        "\n",
        "  print()\n",
        "  from sklearn.metrics import roc_auc_score\n",
        "\n",
        "  y_val  = val_labels\n",
        "  y_preds_val = MERGM.predict_generator(VAL)\n",
        "  print('val:', roc_auc_score(y_val[:len(y_preds_val)], y_preds_val))\n",
        "\n",
        "  y_test  = test_labels\n",
        "  y_preds_test = MERGM.predict(TEST)\n",
        "  print('test', roc_auc_score(y_test[:len(y_preds_test)], y_preds_test))\n",
        "  print()\n",
        "  print('-----------------------------------------------------------------')\n",
        "  from sklearn.metrics import ConfusionMatrixDisplay\n",
        "  ConfusionMatrixDisplay.from_predictions(y_test[:len(y_preds_test)], y_preds_test>0.5)\n",
        "  plt.show()\n"
      ]
    },
    {
      "cell_type": "markdown",
      "metadata": {
        "id": "9lC-LJeBdwoy"
      },
      "source": [
        "---\n",
        "# 4-Model Visualization\n",
        "---"
      ]
    },
    {
      "cell_type": "code",
      "execution_count": null,
      "metadata": {
        "colab": {
          "base_uri": "https://localhost:8080/",
          "height": 390
        },
        "id": "QcGfTw8S2Hf0",
        "outputId": "9f0157d3-df8e-417c-8a8f-77afda1aeea7"
      },
      "outputs": [
        {
          "name": "stdout",
          "output_type": "stream",
          "text": [
            "0\n",
            "Num_samples: 288\n",
            "acc:  0.5729166666666666\n"
          ]
        },
        {
          "name": "stderr",
          "output_type": "stream",
          "text": [
            "/usr/local/lib/python3.7/dist-packages/ipykernel_launcher.py:30: DeprecationWarning: scipy.interp is deprecated and will be removed in SciPy 2.0.0, use numpy.interp instead\n",
            "/usr/local/lib/python3.7/dist-packages/ipykernel_launcher.py:49: MatplotlibDeprecationWarning: Adding an axes using the same arguments as a previous axes currently reuses the earlier instance.  In a future version, a new instance will always be created and returned.  Meanwhile, this warning can be suppressed, and the future behavior ensured, by passing a unique label to each axes instance.\n"
          ]
        },
        {
          "data": {
            "image/png": "[encoded data removed]",
            "text/plain": [
              "<Figure size 432x288 with 1 Axes>"
            ]
          },
          "metadata": {},
          "output_type": "display_data"
        }
      ],
      "source": [
        "# Calculate ROC curves for each run\n",
        "from sklearn.metrics import roc_curve\n",
        "import matplotlib.pyplot as plt\n",
        "from scipy import interp\n",
        "import sklearn\n",
        "\n",
        "# EDIT MODEL PATHS TO USE\n",
        "models = {0: '/content/models/0/020--0.555--0.516.hdf5'\n",
        "          }\n",
        "\n",
        "tprs = []\n",
        "base_fpr = np.linspace(0, 1, 101)\n",
        "for iii in range(1):\n",
        "  print(iii)\n",
        "\n",
        "  test_features= DATA[iii]['MFCCS'][ int(0.7*len(data_x)): int(0.85*len(data_x))]\n",
        "  test_extra   = DATA[iii]['EXTRA'][ int(0.7*len(data_x)): int(0.85*len(data_x))]\n",
        "  test_imgs    = DATA[iii]['MEL'][ int(0.7*len(data_x)): int(0.85*len(data_x))]\n",
        "  test_labels  = DATA[iii]['LABELS'][ int(0.7*len(data_x)): int(0.85*len(data_x))]\n",
        "  TEST          = TripleInputGenerator(test_features,test_imgs,test_extra,test_labels,batch_size=48,target_size=(64,64))\n",
        "\n",
        "  model = keras.models.load_model(models[iii])\n",
        "  y_score = model.predict(TEST)\n",
        "  fpr, tpr, _ = roc_curve(test_labels[:len(y_score)], y_score)\n",
        "  print('Num_samples:', len(y_score))\n",
        "\n",
        "  print('acc: ', sklearn.metrics.accuracy_score(test_labels[:len(y_score)], y_score>0.5))\n",
        "\n",
        "  plt.plot(fpr, tpr, 'b', alpha=0.15)\n",
        "  tpr = interp(base_fpr, fpr, tpr)\n",
        "  tpr[0] = 0.0\n",
        "  tprs.append(tpr)\n",
        "\n",
        "tprs = np.array(tprs)\n",
        "mean_tprs = tprs.mean(axis=0)\n",
        "std = tprs.std(axis=0)\n",
        "\n",
        "tprs_upper = np.minimum(mean_tprs + std, 1)\n",
        "tprs_lower = mean_tprs - std\n",
        "\n",
        "plt.plot(base_fpr, mean_tprs, 'b')\n",
        "plt.fill_between(base_fpr, tprs_lower, tprs_upper, color='grey', alpha=0.3)\n",
        "\n",
        "plt.plot([0, 1], [0, 1],'r--')\n",
        "plt.xlim([0, 1])\n",
        "plt.ylim([0, 1])\n",
        "plt.ylabel('True Positive Rate')\n",
        "plt.xlabel('False Positive Rate')\n",
        "plt.axes().set_aspect('equal', 'datalim')\n",
        "plt.savefig('roc_curve.png')\n",
        "plt.show()"
      ]
    }
  ],
  "metadata": {
    "colab": {
      "collapsed_sections": [],
      "name": "cough_model.ipynb",
      "provenance": []
    },
    "kernelspec": {
      "display_name": "Python 3",
      "name": "python3"
    }
  },
  "nbformat": 4,
  "nbformat_minor": 0
}